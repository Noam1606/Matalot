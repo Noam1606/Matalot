{
 "cells": [
  {
   "cell_type": "markdown",
   "metadata": {},
   "source": [
    "# Ex. 2\n",
    "Please fill-in your ID in the following cell, *No Names!*\n",
    "\n",
    "Then fill your names in the next two cells."
   ]
  },
  {
   "cell_type": "code",
   "execution_count": 25,
   "metadata": {},
   "outputs": [
    {
     "data": {
      "text/html": [
       "<div>\n",
       "<style scoped>\n",
       "    .dataframe tbody tr th:only-of-type {\n",
       "        vertical-align: middle;\n",
       "    }\n",
       "\n",
       "    .dataframe tbody tr th {\n",
       "        vertical-align: top;\n",
       "    }\n",
       "\n",
       "    .dataframe thead th {\n",
       "        text-align: right;\n",
       "    }\n",
       "</style>\n",
       "<table border=\"1\" class=\"dataframe\">\n",
       "  <thead>\n",
       "    <tr style=\"text-align: right;\">\n",
       "      <th></th>\n",
       "      <th>0</th>\n",
       "    </tr>\n",
       "  </thead>\n",
       "  <tbody>\n",
       "    <tr>\n",
       "      <th>0</th>\n",
       "      <td>332391820</td>\n",
       "    </tr>\n",
       "    <tr>\n",
       "      <th>1</th>\n",
       "      <td>313475808</td>\n",
       "    </tr>\n",
       "  </tbody>\n",
       "</table>\n",
       "</div>"
      ],
      "text/plain": [
       "           0\n",
       "0  332391820\n",
       "1  313475808"
      ]
     },
     "execution_count": 25,
     "metadata": {},
     "output_type": "execute_result"
    }
   ],
   "source": [
    "id1 = \"332391820\"\n",
    "id2 = \"313475808\"\n",
    "\n",
    "name_student_1 = \"Noam, Sitbon\"\n",
    "name_student_2 = \"Yedidia, Friedheim\"\n",
    "\n",
    "import pandas as pd\n",
    "import numpy as np\n",
    "df = pd.DataFrame([id1,id2])\n",
    "# Uncomment in case two students are doing the assignment together\n",
    "# df = pd.DataFrame([id1])df = pd.DataFrame([id1,id2])\n",
    "df.to_clipboard(index=False,header=False)\n",
    "df"
   ]
  },
  {
   "cell_type": "markdown",
   "metadata": {},
   "source": [
    "q1"
   ]
  },
  {
   "cell_type": "code",
   "execution_count": 26,
   "metadata": {},
   "outputs": [
    {
     "data": {
      "text/html": [
       "<div>\n",
       "<style scoped>\n",
       "    .dataframe tbody tr th:only-of-type {\n",
       "        vertical-align: middle;\n",
       "    }\n",
       "\n",
       "    .dataframe tbody tr th {\n",
       "        vertical-align: top;\n",
       "    }\n",
       "\n",
       "    .dataframe thead th {\n",
       "        text-align: right;\n",
       "    }\n",
       "</style>\n",
       "<table border=\"1\" class=\"dataframe\">\n",
       "  <thead>\n",
       "    <tr style=\"text-align: right;\">\n",
       "      <th></th>\n",
       "      <th>location</th>\n",
       "      <th>iso_code</th>\n",
       "      <th>date</th>\n",
       "      <th>total_vaccinations</th>\n",
       "      <th>people_vaccinated</th>\n",
       "      <th>people_fully_vaccinated</th>\n",
       "      <th>daily_vaccinations_raw</th>\n",
       "      <th>daily_vaccinations</th>\n",
       "      <th>total_vaccinations_per_hundred</th>\n",
       "      <th>people_vaccinated_per_hundred</th>\n",
       "      <th>people_fully_vaccinated_per_hundred</th>\n",
       "      <th>daily_vaccinations_per_million</th>\n",
       "    </tr>\n",
       "  </thead>\n",
       "  <tbody>\n",
       "    <tr>\n",
       "      <th>8851</th>\n",
       "      <td>Norway</td>\n",
       "      <td>NOR</td>\n",
       "      <td>2020-12-27</td>\n",
       "      <td>5.0</td>\n",
       "      <td>5.0</td>\n",
       "      <td>NaN</td>\n",
       "      <td>NaN</td>\n",
       "      <td>NaN</td>\n",
       "      <td>0.00</td>\n",
       "      <td>0.00</td>\n",
       "      <td>NaN</td>\n",
       "      <td>NaN</td>\n",
       "    </tr>\n",
       "    <tr>\n",
       "      <th>8852</th>\n",
       "      <td>Norway</td>\n",
       "      <td>NOR</td>\n",
       "      <td>2020-12-28</td>\n",
       "      <td>609.0</td>\n",
       "      <td>609.0</td>\n",
       "      <td>NaN</td>\n",
       "      <td>604.0</td>\n",
       "      <td>604.0</td>\n",
       "      <td>0.01</td>\n",
       "      <td>0.01</td>\n",
       "      <td>NaN</td>\n",
       "      <td>111.0</td>\n",
       "    </tr>\n",
       "    <tr>\n",
       "      <th>8853</th>\n",
       "      <td>Norway</td>\n",
       "      <td>NOR</td>\n",
       "      <td>2020-12-29</td>\n",
       "      <td>1676.0</td>\n",
       "      <td>1676.0</td>\n",
       "      <td>NaN</td>\n",
       "      <td>1067.0</td>\n",
       "      <td>836.0</td>\n",
       "      <td>0.03</td>\n",
       "      <td>0.03</td>\n",
       "      <td>NaN</td>\n",
       "      <td>154.0</td>\n",
       "    </tr>\n",
       "  </tbody>\n",
       "</table>\n",
       "</div>"
      ],
      "text/plain": [
       "     location iso_code        date  total_vaccinations  people_vaccinated  \\\n",
       "8851   Norway      NOR  2020-12-27                 5.0                5.0   \n",
       "8852   Norway      NOR  2020-12-28               609.0              609.0   \n",
       "8853   Norway      NOR  2020-12-29              1676.0             1676.0   \n",
       "\n",
       "      people_fully_vaccinated  daily_vaccinations_raw  daily_vaccinations  \\\n",
       "8851                      NaN                     NaN                 NaN   \n",
       "8852                      NaN                   604.0               604.0   \n",
       "8853                      NaN                  1067.0               836.0   \n",
       "\n",
       "      total_vaccinations_per_hundred  people_vaccinated_per_hundred  \\\n",
       "8851                            0.00                           0.00   \n",
       "8852                            0.01                           0.01   \n",
       "8853                            0.03                           0.03   \n",
       "\n",
       "      people_fully_vaccinated_per_hundred  daily_vaccinations_per_million  \n",
       "8851                                  NaN                             NaN  \n",
       "8852                                  NaN                           111.0  \n",
       "8853                                  NaN                           154.0  "
      ]
     },
     "execution_count": 26,
     "metadata": {},
     "output_type": "execute_result"
    }
   ],
   "source": [
    "url = 'https://raw.githubusercontent.com/owid/covid-19-data/master/public/data/vaccinations/vaccinations.csv'\n",
    "vacc_df = pd.read_csv(url)\n",
    "my_country=vacc_df[vacc_df['location'].str.contains(\"Norway\")].copy()\n",
    "my_country[0:3] #print first 3 lines of data of Nowrway (\"N\" like Noam)"
   ]
  },
  {
   "cell_type": "markdown",
   "metadata": {},
   "source": [
    "q2"
   ]
  },
  {
   "cell_type": "code",
   "execution_count": 27,
   "metadata": {},
   "outputs": [
    {
     "name": "stdout",
     "output_type": "stream",
     "text": [
      "Most data is missing in column: people_fully_vaccinated. There is 21 values that are missing.\n"
     ]
    }
   ],
   "source": [
    "max_missing_val=my_country.isnull().sum() #find the where there is empty value on each column\n",
    "\n",
    "print(\"Most data is missing in column:\",max_missing_val.idxmax(axis=1)+\".\",\"There is\",max_missing_val.max(),\"values that are missing.\")\n",
    "#print the name of the column with the most missing value"
   ]
  },
  {
   "cell_type": "markdown",
   "metadata": {},
   "source": [
    "q3"
   ]
  },
  {
   "cell_type": "code",
   "execution_count": 28,
   "metadata": {},
   "outputs": [
    {
     "data": {
      "text/html": [
       "<div>\n",
       "<style scoped>\n",
       "    .dataframe tbody tr th:only-of-type {\n",
       "        vertical-align: middle;\n",
       "    }\n",
       "\n",
       "    .dataframe tbody tr th {\n",
       "        vertical-align: top;\n",
       "    }\n",
       "\n",
       "    .dataframe thead th {\n",
       "        text-align: right;\n",
       "    }\n",
       "</style>\n",
       "<table border=\"1\" class=\"dataframe\">\n",
       "  <thead>\n",
       "    <tr style=\"text-align: right;\">\n",
       "      <th></th>\n",
       "      <th>location</th>\n",
       "      <th>iso_code</th>\n",
       "      <th>date</th>\n",
       "      <th>total_vaccinations</th>\n",
       "      <th>people_vaccinated</th>\n",
       "      <th>people_fully_vaccinated</th>\n",
       "      <th>daily_vaccinations_raw</th>\n",
       "      <th>daily_vaccinations</th>\n",
       "      <th>total_vaccinations_per_hundred</th>\n",
       "      <th>people_vaccinated_per_hundred</th>\n",
       "      <th>people_fully_vaccinated_per_hundred</th>\n",
       "      <th>daily_vaccinations_per_million</th>\n",
       "    </tr>\n",
       "  </thead>\n",
       "  <tbody>\n",
       "    <tr>\n",
       "      <th>8851</th>\n",
       "      <td>Norway</td>\n",
       "      <td>NOR</td>\n",
       "      <td>2020-12-27</td>\n",
       "      <td>5.0</td>\n",
       "      <td>5.0</td>\n",
       "      <td>NaN</td>\n",
       "      <td>NaN</td>\n",
       "      <td>NaN</td>\n",
       "      <td>0.0</td>\n",
       "      <td>0.0</td>\n",
       "      <td>NaN</td>\n",
       "      <td>NaN</td>\n",
       "    </tr>\n",
       "  </tbody>\n",
       "</table>\n",
       "</div>"
      ],
      "text/plain": [
       "     location iso_code        date  total_vaccinations  people_vaccinated  \\\n",
       "8851   Norway      NOR  2020-12-27                 5.0                5.0   \n",
       "\n",
       "      people_fully_vaccinated  daily_vaccinations_raw  daily_vaccinations  \\\n",
       "8851                      NaN                     NaN                 NaN   \n",
       "\n",
       "      total_vaccinations_per_hundred  people_vaccinated_per_hundred  \\\n",
       "8851                             0.0                            0.0   \n",
       "\n",
       "      people_fully_vaccinated_per_hundred  daily_vaccinations_per_million  \n",
       "8851                                  NaN                             NaN  "
      ]
     },
     "execution_count": 28,
     "metadata": {},
     "output_type": "execute_result"
    }
   ],
   "source": [
    "my_country[my_country[\"daily_vaccinations\"].isnull()]\n",
    "#print the row which have empty value on column \"daily_vaccinations\""
   ]
  },
  {
   "cell_type": "markdown",
   "metadata": {},
   "source": [
    " q4"
   ]
  },
  {
   "cell_type": "code",
   "execution_count": 29,
   "metadata": {},
   "outputs": [
    {
     "data": {
      "text/html": [
       "<div>\n",
       "<style scoped>\n",
       "    .dataframe tbody tr th:only-of-type {\n",
       "        vertical-align: middle;\n",
       "    }\n",
       "\n",
       "    .dataframe tbody tr th {\n",
       "        vertical-align: top;\n",
       "    }\n",
       "\n",
       "    .dataframe thead th {\n",
       "        text-align: right;\n",
       "    }\n",
       "</style>\n",
       "<table border=\"1\" class=\"dataframe\">\n",
       "  <thead>\n",
       "    <tr style=\"text-align: right;\">\n",
       "      <th></th>\n",
       "      <th>location</th>\n",
       "      <th>iso_code</th>\n",
       "      <th>date</th>\n",
       "      <th>total_vaccinations</th>\n",
       "      <th>people_vaccinated</th>\n",
       "      <th>people_fully_vaccinated</th>\n",
       "      <th>daily_vaccinations_raw</th>\n",
       "      <th>daily_vaccinations</th>\n",
       "      <th>total_vaccinations_per_hundred</th>\n",
       "      <th>people_vaccinated_per_hundred</th>\n",
       "      <th>people_fully_vaccinated_per_hundred</th>\n",
       "      <th>daily_vaccinations_per_million</th>\n",
       "    </tr>\n",
       "  </thead>\n",
       "  <tbody>\n",
       "    <tr>\n",
       "      <th>8851</th>\n",
       "      <td>Norway</td>\n",
       "      <td>NOR</td>\n",
       "      <td>2020-12-27</td>\n",
       "      <td>5.0</td>\n",
       "      <td>5.0</td>\n",
       "      <td>NaN</td>\n",
       "      <td>NaN</td>\n",
       "      <td>0.0</td>\n",
       "      <td>0.00</td>\n",
       "      <td>0.00</td>\n",
       "      <td>NaN</td>\n",
       "      <td>NaN</td>\n",
       "    </tr>\n",
       "    <tr>\n",
       "      <th>8852</th>\n",
       "      <td>Norway</td>\n",
       "      <td>NOR</td>\n",
       "      <td>2020-12-28</td>\n",
       "      <td>609.0</td>\n",
       "      <td>609.0</td>\n",
       "      <td>NaN</td>\n",
       "      <td>604.0</td>\n",
       "      <td>604.0</td>\n",
       "      <td>0.01</td>\n",
       "      <td>0.01</td>\n",
       "      <td>NaN</td>\n",
       "      <td>111.0</td>\n",
       "    </tr>\n",
       "    <tr>\n",
       "      <th>8853</th>\n",
       "      <td>Norway</td>\n",
       "      <td>NOR</td>\n",
       "      <td>2020-12-29</td>\n",
       "      <td>1676.0</td>\n",
       "      <td>1676.0</td>\n",
       "      <td>NaN</td>\n",
       "      <td>1067.0</td>\n",
       "      <td>836.0</td>\n",
       "      <td>0.03</td>\n",
       "      <td>0.03</td>\n",
       "      <td>NaN</td>\n",
       "      <td>154.0</td>\n",
       "    </tr>\n",
       "    <tr>\n",
       "      <th>8854</th>\n",
       "      <td>Norway</td>\n",
       "      <td>NOR</td>\n",
       "      <td>2020-12-30</td>\n",
       "      <td>2103.0</td>\n",
       "      <td>2103.0</td>\n",
       "      <td>NaN</td>\n",
       "      <td>427.0</td>\n",
       "      <td>699.0</td>\n",
       "      <td>0.04</td>\n",
       "      <td>0.04</td>\n",
       "      <td>NaN</td>\n",
       "      <td>129.0</td>\n",
       "    </tr>\n",
       "    <tr>\n",
       "      <th>8855</th>\n",
       "      <td>Norway</td>\n",
       "      <td>NOR</td>\n",
       "      <td>2020-12-31</td>\n",
       "      <td>2175.0</td>\n",
       "      <td>2175.0</td>\n",
       "      <td>NaN</td>\n",
       "      <td>72.0</td>\n",
       "      <td>542.0</td>\n",
       "      <td>0.04</td>\n",
       "      <td>0.04</td>\n",
       "      <td>NaN</td>\n",
       "      <td>100.0</td>\n",
       "    </tr>\n",
       "    <tr>\n",
       "      <th>...</th>\n",
       "      <td>...</td>\n",
       "      <td>...</td>\n",
       "      <td>...</td>\n",
       "      <td>...</td>\n",
       "      <td>...</td>\n",
       "      <td>...</td>\n",
       "      <td>...</td>\n",
       "      <td>...</td>\n",
       "      <td>...</td>\n",
       "      <td>...</td>\n",
       "      <td>...</td>\n",
       "      <td>...</td>\n",
       "    </tr>\n",
       "    <tr>\n",
       "      <th>8956</th>\n",
       "      <td>Norway</td>\n",
       "      <td>NOR</td>\n",
       "      <td>2021-04-11</td>\n",
       "      <td>1168098.0</td>\n",
       "      <td>871449.0</td>\n",
       "      <td>296649.0</td>\n",
       "      <td>559.0</td>\n",
       "      <td>25019.0</td>\n",
       "      <td>21.55</td>\n",
       "      <td>16.07</td>\n",
       "      <td>5.47</td>\n",
       "      <td>4615.0</td>\n",
       "    </tr>\n",
       "    <tr>\n",
       "      <th>8957</th>\n",
       "      <td>Norway</td>\n",
       "      <td>NOR</td>\n",
       "      <td>2021-04-12</td>\n",
       "      <td>1171694.0</td>\n",
       "      <td>874963.0</td>\n",
       "      <td>296731.0</td>\n",
       "      <td>3596.0</td>\n",
       "      <td>25337.0</td>\n",
       "      <td>21.61</td>\n",
       "      <td>16.14</td>\n",
       "      <td>5.47</td>\n",
       "      <td>4674.0</td>\n",
       "    </tr>\n",
       "    <tr>\n",
       "      <th>8958</th>\n",
       "      <td>Norway</td>\n",
       "      <td>NOR</td>\n",
       "      <td>2021-04-13</td>\n",
       "      <td>1196987.0</td>\n",
       "      <td>899874.0</td>\n",
       "      <td>297113.0</td>\n",
       "      <td>25293.0</td>\n",
       "      <td>25937.0</td>\n",
       "      <td>22.08</td>\n",
       "      <td>16.60</td>\n",
       "      <td>5.48</td>\n",
       "      <td>4784.0</td>\n",
       "    </tr>\n",
       "    <tr>\n",
       "      <th>8959</th>\n",
       "      <td>Norway</td>\n",
       "      <td>NOR</td>\n",
       "      <td>2021-04-14</td>\n",
       "      <td>1264158.0</td>\n",
       "      <td>965632.0</td>\n",
       "      <td>298526.0</td>\n",
       "      <td>67171.0</td>\n",
       "      <td>26674.0</td>\n",
       "      <td>23.32</td>\n",
       "      <td>17.81</td>\n",
       "      <td>5.51</td>\n",
       "      <td>4920.0</td>\n",
       "    </tr>\n",
       "    <tr>\n",
       "      <th>8960</th>\n",
       "      <td>Norway</td>\n",
       "      <td>NOR</td>\n",
       "      <td>2021-04-15</td>\n",
       "      <td>1325060.0</td>\n",
       "      <td>1025429.0</td>\n",
       "      <td>299631.0</td>\n",
       "      <td>60902.0</td>\n",
       "      <td>26626.0</td>\n",
       "      <td>24.44</td>\n",
       "      <td>18.92</td>\n",
       "      <td>5.53</td>\n",
       "      <td>4911.0</td>\n",
       "    </tr>\n",
       "  </tbody>\n",
       "</table>\n",
       "<p>110 rows × 12 columns</p>\n",
       "</div>"
      ],
      "text/plain": [
       "     location iso_code        date  total_vaccinations  people_vaccinated  \\\n",
       "8851   Norway      NOR  2020-12-27                 5.0                5.0   \n",
       "8852   Norway      NOR  2020-12-28               609.0              609.0   \n",
       "8853   Norway      NOR  2020-12-29              1676.0             1676.0   \n",
       "8854   Norway      NOR  2020-12-30              2103.0             2103.0   \n",
       "8855   Norway      NOR  2020-12-31              2175.0             2175.0   \n",
       "...       ...      ...         ...                 ...                ...   \n",
       "8956   Norway      NOR  2021-04-11           1168098.0           871449.0   \n",
       "8957   Norway      NOR  2021-04-12           1171694.0           874963.0   \n",
       "8958   Norway      NOR  2021-04-13           1196987.0           899874.0   \n",
       "8959   Norway      NOR  2021-04-14           1264158.0           965632.0   \n",
       "8960   Norway      NOR  2021-04-15           1325060.0          1025429.0   \n",
       "\n",
       "      people_fully_vaccinated  daily_vaccinations_raw  daily_vaccinations  \\\n",
       "8851                      NaN                     NaN                 0.0   \n",
       "8852                      NaN                   604.0               604.0   \n",
       "8853                      NaN                  1067.0               836.0   \n",
       "8854                      NaN                   427.0               699.0   \n",
       "8855                      NaN                    72.0               542.0   \n",
       "...                       ...                     ...                 ...   \n",
       "8956                 296649.0                   559.0             25019.0   \n",
       "8957                 296731.0                  3596.0             25337.0   \n",
       "8958                 297113.0                 25293.0             25937.0   \n",
       "8959                 298526.0                 67171.0             26674.0   \n",
       "8960                 299631.0                 60902.0             26626.0   \n",
       "\n",
       "      total_vaccinations_per_hundred  people_vaccinated_per_hundred  \\\n",
       "8851                            0.00                           0.00   \n",
       "8852                            0.01                           0.01   \n",
       "8853                            0.03                           0.03   \n",
       "8854                            0.04                           0.04   \n",
       "8855                            0.04                           0.04   \n",
       "...                              ...                            ...   \n",
       "8956                           21.55                          16.07   \n",
       "8957                           21.61                          16.14   \n",
       "8958                           22.08                          16.60   \n",
       "8959                           23.32                          17.81   \n",
       "8960                           24.44                          18.92   \n",
       "\n",
       "      people_fully_vaccinated_per_hundred  daily_vaccinations_per_million  \n",
       "8851                                  NaN                             NaN  \n",
       "8852                                  NaN                           111.0  \n",
       "8853                                  NaN                           154.0  \n",
       "8854                                  NaN                           129.0  \n",
       "8855                                  NaN                           100.0  \n",
       "...                                   ...                             ...  \n",
       "8956                                 5.47                          4615.0  \n",
       "8957                                 5.47                          4674.0  \n",
       "8958                                 5.48                          4784.0  \n",
       "8959                                 5.51                          4920.0  \n",
       "8960                                 5.53                          4911.0  \n",
       "\n",
       "[110 rows x 12 columns]"
      ]
     },
     "execution_count": 29,
     "metadata": {},
     "output_type": "execute_result"
    }
   ],
   "source": [
    "my_country[\"daily_vaccinations\"].fillna(0, inplace=True) #add value to empty value on \"daily_vaccinations\"\n",
    "my_country #We choose to use the function fillna to add value and we decide to put 0 on empty value because there can be  hollyday  and some country don't vaccinate in those days.(Like Israel in Kippur day)"
   ]
  },
  {
   "cell_type": "markdown",
   "metadata": {},
   "source": [
    "q5"
   ]
  },
  {
   "cell_type": "code",
   "execution_count": 30,
   "metadata": {},
   "outputs": [
    {
     "data": {
      "text/plain": [
       "<matplotlib.axes._subplots.AxesSubplot at 0x27abe35abb0>"
      ]
     },
     "execution_count": 30,
     "metadata": {},
     "output_type": "execute_result"
    },
    {
     "data": {
      "image/png": "[encoded data removed]",
      "text/plain": [
       "<Figure size 432x288 with 1 Axes>"
      ]
     },
     "metadata": {
      "needs_background": "light"
     },
     "output_type": "display_data"
    }
   ],
   "source": [
    "my_country[[\"people_vaccinated\",\"total_vaccinations\"]].plot.hist(bins=20,alpha=0.7) \n",
    "#We present an histogram of \"people_vaccinated\",\"total_vaccinations\"\n"
   ]
  },
  {
   "cell_type": "markdown",
   "metadata": {},
   "source": [
    "q6"
   ]
  },
  {
   "cell_type": "code",
   "execution_count": 31,
   "metadata": {},
   "outputs": [
    {
     "name": "stdout",
     "output_type": "stream",
     "text": [
      "We can see that the green line is the median, it is equal to:  3.11\n"
     ]
    },
    {
     "data": {
      "image/png": "[encoded data removed]",
      "text/plain": [
       "<Figure size 432x288 with 1 Axes>"
      ]
     },
     "metadata": {
      "needs_background": "light"
     },
     "output_type": "display_data"
    }
   ],
   "source": [
    "my_country.boxplot(\"people_fully_vaccinated_per_hundred\")\n",
    "print(\"We can see that the green line is the median, it is equal to: \",my_country[\"people_fully_vaccinated_per_hundred\"].median())\n",
    "#we did boxplot to \"my_country\" and  we also find the median to show what is the green line symbolizes."
   ]
  },
  {
   "cell_type": "markdown",
   "metadata": {},
   "source": [
    "q7"
   ]
  },
  {
   "cell_type": "code",
   "execution_count": 32,
   "metadata": {},
   "outputs": [
    {
     "data": {
      "text/html": [
       "<div>\n",
       "<style scoped>\n",
       "    .dataframe tbody tr th:only-of-type {\n",
       "        vertical-align: middle;\n",
       "    }\n",
       "\n",
       "    .dataframe tbody tr th {\n",
       "        vertical-align: top;\n",
       "    }\n",
       "\n",
       "    .dataframe thead th {\n",
       "        text-align: right;\n",
       "    }\n",
       "</style>\n",
       "<table border=\"1\" class=\"dataframe\">\n",
       "  <thead>\n",
       "    <tr style=\"text-align: right;\">\n",
       "      <th></th>\n",
       "      <th>people_vaccinated_per_hundred</th>\n",
       "      <th>daily_vaccinations</th>\n",
       "    </tr>\n",
       "    <tr>\n",
       "      <th>month</th>\n",
       "      <th></th>\n",
       "      <th></th>\n",
       "    </tr>\n",
       "  </thead>\n",
       "  <tbody>\n",
       "    <tr>\n",
       "      <th>1</th>\n",
       "      <td>2.01</td>\n",
       "      <td>6843.0</td>\n",
       "    </tr>\n",
       "    <tr>\n",
       "      <th>2</th>\n",
       "      <td>6.20</td>\n",
       "      <td>14729.0</td>\n",
       "    </tr>\n",
       "    <tr>\n",
       "      <th>3</th>\n",
       "      <td>12.78</td>\n",
       "      <td>20734.0</td>\n",
       "    </tr>\n",
       "    <tr>\n",
       "      <th>4</th>\n",
       "      <td>18.92</td>\n",
       "      <td>26674.0</td>\n",
       "    </tr>\n",
       "    <tr>\n",
       "      <th>12</th>\n",
       "      <td>0.04</td>\n",
       "      <td>836.0</td>\n",
       "    </tr>\n",
       "  </tbody>\n",
       "</table>\n",
       "</div>"
      ],
      "text/plain": [
       "       people_vaccinated_per_hundred  daily_vaccinations\n",
       "month                                                   \n",
       "1                               2.01              6843.0\n",
       "2                               6.20             14729.0\n",
       "3                              12.78             20734.0\n",
       "4                              18.92             26674.0\n",
       "12                              0.04               836.0"
      ]
     },
     "execution_count": 32,
     "metadata": {},
     "output_type": "execute_result"
    }
   ],
   "source": [
    "my_country['month'] = pd.DatetimeIndex(my_country.date).month #add a column \"month\" to dataframe\n",
    "country_2=my_country.groupby('month')[['people_vaccinated_per_hundred', 'daily_vaccinations']].max() #find maximum value from 'people_vaccinated_per_hundred', 'daily_vaccinations' and class by their month\n",
    "country_2 \n"
   ]
  },
  {
   "cell_type": "markdown",
   "metadata": {},
   "source": [
    "q8"
   ]
  },
  {
   "cell_type": "code",
   "execution_count": 33,
   "metadata": {},
   "outputs": [
    {
     "data": {
      "text/html": [
       "<div>\n",
       "<style scoped>\n",
       "    .dataframe tbody tr th:only-of-type {\n",
       "        vertical-align: middle;\n",
       "    }\n",
       "\n",
       "    .dataframe tbody tr th {\n",
       "        vertical-align: top;\n",
       "    }\n",
       "\n",
       "    .dataframe thead th {\n",
       "        text-align: right;\n",
       "    }\n",
       "</style>\n",
       "<table border=\"1\" class=\"dataframe\">\n",
       "  <thead>\n",
       "    <tr style=\"text-align: right;\">\n",
       "      <th></th>\n",
       "      <th>people_vaccinated_per_hundred</th>\n",
       "      <th>daily_vaccinations</th>\n",
       "    </tr>\n",
       "    <tr>\n",
       "      <th>month</th>\n",
       "      <th></th>\n",
       "      <th></th>\n",
       "    </tr>\n",
       "  </thead>\n",
       "  <tbody>\n",
       "    <tr>\n",
       "      <th>12</th>\n",
       "      <td>0.04</td>\n",
       "      <td>836.0</td>\n",
       "    </tr>\n",
       "    <tr>\n",
       "      <th>1</th>\n",
       "      <td>2.01</td>\n",
       "      <td>6843.0</td>\n",
       "    </tr>\n",
       "    <tr>\n",
       "      <th>2</th>\n",
       "      <td>6.20</td>\n",
       "      <td>14729.0</td>\n",
       "    </tr>\n",
       "    <tr>\n",
       "      <th>3</th>\n",
       "      <td>12.78</td>\n",
       "      <td>20734.0</td>\n",
       "    </tr>\n",
       "    <tr>\n",
       "      <th>4</th>\n",
       "      <td>18.92</td>\n",
       "      <td>26674.0</td>\n",
       "    </tr>\n",
       "  </tbody>\n",
       "</table>\n",
       "</div>"
      ],
      "text/plain": [
       "       people_vaccinated_per_hundred  daily_vaccinations\n",
       "month                                                   \n",
       "12                              0.04               836.0\n",
       "1                               2.01              6843.0\n",
       "2                               6.20             14729.0\n",
       "3                              12.78             20734.0\n",
       "4                              18.92             26674.0"
      ]
     },
     "execution_count": 33,
     "metadata": {},
     "output_type": "execute_result"
    }
   ],
   "source": [
    "country_2.sort_values('people_vaccinated_per_hundred') #Classifies the smallests values to the largest by 'people_vaccinated_per_hundred'"
   ]
  },
  {
   "cell_type": "code",
   "execution_count": null,
   "metadata": {},
   "outputs": [],
   "source": []
  },
  {
   "cell_type": "code",
   "execution_count": null,
   "metadata": {},
   "outputs": [],
   "source": []
  },
  {
   "cell_type": "code",
   "execution_count": null,
   "metadata": {},
   "outputs": [],
   "source": []
  }
 ],
 "metadata": {
  "kernelspec": {
   "display_name": "Python 3",
   "language": "python",
   "name": "python3"
  },
  "language_info": {
   "codemirror_mode": {
    "name": "ipython",
    "version": 3
   },
   "file_extension": ".py",
   "mimetype": "text/x-python",
   "name": "python",
   "nbconvert_exporter": "python",
   "pygments_lexer": "ipython3",
   "version": "3.8.3"
  }
 },
 "nbformat": 4,
 "nbformat_minor": 4
}
