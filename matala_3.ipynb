{
 "cells": [
  {
   "cell_type": "markdown",
   "metadata": {},
   "source": [
    "## Ex 3"
   ]
  },
  {
   "cell_type": "code",
   "execution_count": 1,
   "metadata": {},
   "outputs": [
    {
     "data": {
      "text/html": [
       "<div>\n",
       "<style scoped>\n",
       "    .dataframe tbody tr th:only-of-type {\n",
       "        vertical-align: middle;\n",
       "    }\n",
       "\n",
       "    .dataframe tbody tr th {\n",
       "        vertical-align: top;\n",
       "    }\n",
       "\n",
       "    .dataframe thead th {\n",
       "        text-align: right;\n",
       "    }\n",
       "</style>\n",
       "<table border=\"1\" class=\"dataframe\">\n",
       "  <thead>\n",
       "    <tr style=\"text-align: right;\">\n",
       "      <th></th>\n",
       "      <th>0</th>\n",
       "    </tr>\n",
       "  </thead>\n",
       "  <tbody>\n",
       "    <tr>\n",
       "      <th>0</th>\n",
       "      <td>Noam Sitbon , 332391820</td>\n",
       "    </tr>\n",
       "    <tr>\n",
       "      <th>1</th>\n",
       "      <td>Yedidia Friedheim , 313475808</td>\n",
       "    </tr>\n",
       "  </tbody>\n",
       "</table>\n",
       "</div>"
      ],
      "text/plain": [
       "                               0\n",
       "0        Noam Sitbon , 332391820\n",
       "1  Yedidia Friedheim , 313475808"
      ]
     },
     "execution_count": 1,
     "metadata": {},
     "output_type": "execute_result"
    }
   ],
   "source": [
    "id1 = \"332391820\"\n",
    "id2 = \"313475808\"\n",
    "\n",
    "name_student_1 = \"Noam Sitbon\"\n",
    "name_student_2 = \"Yedidia Friedheim\"\n",
    "\n",
    "import pandas as pd\n",
    "df = pd.DataFrame([name_student_1 + \" , \" + id1 ,name_student_2 + \" , \" + id2 ])\n",
    "df.to_clipboard(index=False,header=False)\n",
    "df"
   ]
  },
  {
   "cell_type": "code",
   "execution_count": 2,
   "metadata": {},
   "outputs": [],
   "source": [
    "import pandas as pd\n",
    "import numpy as np\n",
    "import seaborn as sns"
   ]
  },
  {
   "cell_type": "code",
   "execution_count": 3,
   "metadata": {},
   "outputs": [
    {
     "data": {
      "text/html": [
       "<div>\n",
       "<style scoped>\n",
       "    .dataframe tbody tr th:only-of-type {\n",
       "        vertical-align: middle;\n",
       "    }\n",
       "\n",
       "    .dataframe tbody tr th {\n",
       "        vertical-align: top;\n",
       "    }\n",
       "\n",
       "    .dataframe thead th {\n",
       "        text-align: right;\n",
       "    }\n",
       "</style>\n",
       "<table border=\"1\" class=\"dataframe\">\n",
       "  <thead>\n",
       "    <tr style=\"text-align: right;\">\n",
       "      <th></th>\n",
       "      <th>video_id</th>\n",
       "      <th>trending_date</th>\n",
       "      <th>title</th>\n",
       "      <th>channel_title</th>\n",
       "      <th>category_id</th>\n",
       "      <th>publish_time</th>\n",
       "      <th>tags</th>\n",
       "      <th>views</th>\n",
       "      <th>likes</th>\n",
       "      <th>dislikes</th>\n",
       "      <th>comment_count</th>\n",
       "      <th>thumbnail_link</th>\n",
       "      <th>comments_disabled</th>\n",
       "      <th>ratings_disabled</th>\n",
       "      <th>video_error_or_removed</th>\n",
       "      <th>description</th>\n",
       "    </tr>\n",
       "  </thead>\n",
       "  <tbody>\n",
       "    <tr>\n",
       "      <th>12840</th>\n",
       "      <td>0eUk_VN3e2A</td>\n",
       "      <td>18.19.01</td>\n",
       "      <td>ASMR Lushful Spa Treatment ✨ Facial and Massage</td>\n",
       "      <td>ASMR Darling</td>\n",
       "      <td>24</td>\n",
       "      <td>2018-01-17T03:24:25.000Z</td>\n",
       "      <td>taylor darling|\"asmr darling\"|\"tingles\"|\"spa\"|...</td>\n",
       "      <td>785084</td>\n",
       "      <td>23712</td>\n",
       "      <td>1591</td>\n",
       "      <td>6812</td>\n",
       "      <td>https://i.ytimg.com/vi/0eUk_VN3e2A/default.jpg</td>\n",
       "      <td>False</td>\n",
       "      <td>False</td>\n",
       "      <td>False</td>\n",
       "      <td>Hello beautiful people! Sit back and enjoy the...</td>\n",
       "    </tr>\n",
       "    <tr>\n",
       "      <th>12841</th>\n",
       "      <td>V0HCZ4YGqbw</td>\n",
       "      <td>18.19.01</td>\n",
       "      <td>La de da de da de da de day oh</td>\n",
       "      <td>bill wurtz</td>\n",
       "      <td>22</td>\n",
       "      <td>2018-01-16T20:34:48.000Z</td>\n",
       "      <td>bill wurtz|\"song\"|\"music\"|\"la de da de da de d...</td>\n",
       "      <td>2297342</td>\n",
       "      <td>237488</td>\n",
       "      <td>5337</td>\n",
       "      <td>27517</td>\n",
       "      <td>https://i.ytimg.com/vi/V0HCZ4YGqbw/default.jpg</td>\n",
       "      <td>False</td>\n",
       "      <td>False</td>\n",
       "      <td>False</td>\n",
       "      <td>http://billwurtz.com\\n\\n\\n\\npatreon:  http://p...</td>\n",
       "    </tr>\n",
       "    <tr>\n",
       "      <th>12842</th>\n",
       "      <td>n08glcqdMRY</td>\n",
       "      <td>18.19.01</td>\n",
       "      <td>How to be a Pisces</td>\n",
       "      <td>Sailor J</td>\n",
       "      <td>23</td>\n",
       "      <td>2018-01-17T23:28:57.000Z</td>\n",
       "      <td>How To|\"Makeup\"|\"Zodiac\"|\"Blue\"|\"Eyeshadow\"|\"T...</td>\n",
       "      <td>112969</td>\n",
       "      <td>9459</td>\n",
       "      <td>288</td>\n",
       "      <td>1866</td>\n",
       "      <td>https://i.ytimg.com/vi/n08glcqdMRY/default.jpg</td>\n",
       "      <td>False</td>\n",
       "      <td>False</td>\n",
       "      <td>False</td>\n",
       "      <td>Which sign should I do next??\\n\\nCome find me ...</td>\n",
       "    </tr>\n",
       "    <tr>\n",
       "      <th>12843</th>\n",
       "      <td>HbNYuOTaYFs</td>\n",
       "      <td>18.19.01</td>\n",
       "      <td>I Bought The $80 Starbucks Mug...</td>\n",
       "      <td>Dave Lee</td>\n",
       "      <td>28</td>\n",
       "      <td>2018-01-17T22:33:30.000Z</td>\n",
       "      <td>Dave2D|\"Review\"|\"dave lee\"|\"mug\"|\"cup\"|\"coffee...</td>\n",
       "      <td>275653</td>\n",
       "      <td>11167</td>\n",
       "      <td>637</td>\n",
       "      <td>1269</td>\n",
       "      <td>https://i.ytimg.com/vi/HbNYuOTaYFs/default.jpg</td>\n",
       "      <td>False</td>\n",
       "      <td>False</td>\n",
       "      <td>False</td>\n",
       "      <td>Dave2D review of the Ember ceramic mug sold at...</td>\n",
       "    </tr>\n",
       "    <tr>\n",
       "      <th>12844</th>\n",
       "      <td>GZMrivD2Aok</td>\n",
       "      <td>18.19.01</td>\n",
       "      <td>Queer Eye | Official Trailer [HD] | Netflix</td>\n",
       "      <td>Netflix</td>\n",
       "      <td>24</td>\n",
       "      <td>2018-01-17T15:00:02.000Z</td>\n",
       "      <td>Netflix|\"Trailer\"|\"Netflix Original Series\"|\"N...</td>\n",
       "      <td>238333</td>\n",
       "      <td>3282</td>\n",
       "      <td>1629</td>\n",
       "      <td>875</td>\n",
       "      <td>https://i.ytimg.com/vi/GZMrivD2Aok/default.jpg</td>\n",
       "      <td>False</td>\n",
       "      <td>False</td>\n",
       "      <td>False</td>\n",
       "      <td>With a new Fab 5 and some very tough missions,...</td>\n",
       "    </tr>\n",
       "  </tbody>\n",
       "</table>\n",
       "</div>"
      ],
      "text/plain": [
       "          video_id trending_date  \\\n",
       "12840  0eUk_VN3e2A      18.19.01   \n",
       "12841  V0HCZ4YGqbw      18.19.01   \n",
       "12842  n08glcqdMRY      18.19.01   \n",
       "12843  HbNYuOTaYFs      18.19.01   \n",
       "12844  GZMrivD2Aok      18.19.01   \n",
       "\n",
       "                                                 title channel_title  \\\n",
       "12840  ASMR Lushful Spa Treatment ✨ Facial and Massage  ASMR Darling   \n",
       "12841                   La de da de da de da de day oh    bill wurtz   \n",
       "12842                               How to be a Pisces      Sailor J   \n",
       "12843                I Bought The $80 Starbucks Mug...      Dave Lee   \n",
       "12844      Queer Eye | Official Trailer [HD] | Netflix       Netflix   \n",
       "\n",
       "       category_id              publish_time  \\\n",
       "12840           24  2018-01-17T03:24:25.000Z   \n",
       "12841           22  2018-01-16T20:34:48.000Z   \n",
       "12842           23  2018-01-17T23:28:57.000Z   \n",
       "12843           28  2018-01-17T22:33:30.000Z   \n",
       "12844           24  2018-01-17T15:00:02.000Z   \n",
       "\n",
       "                                                    tags    views   likes  \\\n",
       "12840  taylor darling|\"asmr darling\"|\"tingles\"|\"spa\"|...   785084   23712   \n",
       "12841  bill wurtz|\"song\"|\"music\"|\"la de da de da de d...  2297342  237488   \n",
       "12842  How To|\"Makeup\"|\"Zodiac\"|\"Blue\"|\"Eyeshadow\"|\"T...   112969    9459   \n",
       "12843  Dave2D|\"Review\"|\"dave lee\"|\"mug\"|\"cup\"|\"coffee...   275653   11167   \n",
       "12844  Netflix|\"Trailer\"|\"Netflix Original Series\"|\"N...   238333    3282   \n",
       "\n",
       "       dislikes  comment_count  \\\n",
       "12840      1591           6812   \n",
       "12841      5337          27517   \n",
       "12842       288           1866   \n",
       "12843       637           1269   \n",
       "12844      1629            875   \n",
       "\n",
       "                                       thumbnail_link  comments_disabled  \\\n",
       "12840  https://i.ytimg.com/vi/0eUk_VN3e2A/default.jpg              False   \n",
       "12841  https://i.ytimg.com/vi/V0HCZ4YGqbw/default.jpg              False   \n",
       "12842  https://i.ytimg.com/vi/n08glcqdMRY/default.jpg              False   \n",
       "12843  https://i.ytimg.com/vi/HbNYuOTaYFs/default.jpg              False   \n",
       "12844  https://i.ytimg.com/vi/GZMrivD2Aok/default.jpg              False   \n",
       "\n",
       "       ratings_disabled  video_error_or_removed  \\\n",
       "12840             False                   False   \n",
       "12841             False                   False   \n",
       "12842             False                   False   \n",
       "12843             False                   False   \n",
       "12844             False                   False   \n",
       "\n",
       "                                             description  \n",
       "12840  Hello beautiful people! Sit back and enjoy the...  \n",
       "12841  http://billwurtz.com\\n\\n\\n\\npatreon:  http://p...  \n",
       "12842  Which sign should I do next??\\n\\nCome find me ...  \n",
       "12843  Dave2D review of the Ember ceramic mug sold at...  \n",
       "12844  With a new Fab 5 and some very tough missions,...  "
      ]
     },
     "execution_count": 3,
     "metadata": {},
     "output_type": "execute_result"
    }
   ],
   "source": [
    "url=\"https://raw.githubusercontent.com/nlihin/data-analytics/main/datasets/youtube/youtube_US_short.csv\"\n",
    "youtube=pd.read_csv(url)\n",
    "youtube.tail()"
   ]
  },
  {
   "cell_type": "markdown",
   "metadata": {},
   "source": [
    "## Question 1"
   ]
  },
  {
   "cell_type": "code",
   "execution_count": 1,
   "metadata": {},
   "outputs": [
    {
     "ename": "NameError",
     "evalue": "name 'youtube' is not defined",
     "output_type": "error",
     "traceback": [
      "\u001b[1;31m---------------------------------------------------------------------------\u001b[0m",
      "\u001b[1;31mNameError\u001b[0m                                 Traceback (most recent call last)",
      "\u001b[1;32m<ipython-input-1-c704250fbf81>\u001b[0m in \u001b[0;36m<module>\u001b[1;34m\u001b[0m\n\u001b[1;32m----> 1\u001b[1;33m \u001b[0mmax_view\u001b[0m\u001b[1;33m=\u001b[0m\u001b[0myoutube\u001b[0m\u001b[1;33m[\u001b[0m\u001b[1;34m\"views\"\u001b[0m\u001b[1;33m]\u001b[0m\u001b[1;33m.\u001b[0m\u001b[0mmax\u001b[0m\u001b[1;33m(\u001b[0m\u001b[1;33m)\u001b[0m \u001b[1;31m#Find the maximum view's video\u001b[0m\u001b[1;33m\u001b[0m\u001b[1;33m\u001b[0m\u001b[0m\n\u001b[0m\u001b[0;32m      2\u001b[0m \u001b[0mrow_max_view\u001b[0m\u001b[1;33m=\u001b[0m\u001b[0myoutube\u001b[0m\u001b[1;33m.\u001b[0m\u001b[0mloc\u001b[0m\u001b[1;33m[\u001b[0m\u001b[0myoutube\u001b[0m\u001b[1;33m[\u001b[0m\u001b[1;34m'views'\u001b[0m\u001b[1;33m]\u001b[0m \u001b[1;33m==\u001b[0m \u001b[0mmax_view\u001b[0m\u001b[1;33m]\u001b[0m \u001b[1;31m#Find location of max view in column \"views\"\u001b[0m\u001b[1;33m\u001b[0m\u001b[1;33m\u001b[0m\u001b[0m\n\u001b[0;32m      3\u001b[0m \u001b[0mrow_max_view\u001b[0m\u001b[1;33m[\u001b[0m\u001b[1;33m[\u001b[0m\u001b[1;34m\"title\"\u001b[0m\u001b[1;33m,\u001b[0m\u001b[1;34m\"publish_time\"\u001b[0m\u001b[1;33m,\u001b[0m\u001b[1;34m\"views\"\u001b[0m\u001b[1;33m]\u001b[0m\u001b[1;33m]\u001b[0m\u001b[1;33m\u001b[0m\u001b[1;33m\u001b[0m\u001b[0m\n",
      "\u001b[1;31mNameError\u001b[0m: name 'youtube' is not defined"
     ]
    }
   ],
   "source": [
    "max_view=youtube[\"views\"].max() #Find the maximum view's video\n",
    "row_max_view=youtube.loc[youtube['views'] == max_view] #Find location of max view in column \"views\"\n",
    "row_max_view[[\"title\",\"publish_time\",\"views\"]]\n"
   ]
  },
  {
   "cell_type": "markdown",
   "metadata": {},
   "source": [
    "## Question 2"
   ]
  },
  {
   "cell_type": "code",
   "execution_count": 20,
   "metadata": {},
   "outputs": [
    {
     "data": {
      "text/html": [
       "<div>\n",
       "<style scoped>\n",
       "    .dataframe tbody tr th:only-of-type {\n",
       "        vertical-align: middle;\n",
       "    }\n",
       "\n",
       "    .dataframe tbody tr th {\n",
       "        vertical-align: top;\n",
       "    }\n",
       "\n",
       "    .dataframe thead th {\n",
       "        text-align: right;\n",
       "    }\n",
       "</style>\n",
       "<table border=\"1\" class=\"dataframe\">\n",
       "  <thead>\n",
       "    <tr style=\"text-align: right;\">\n",
       "      <th></th>\n",
       "      <th>views</th>\n",
       "    </tr>\n",
       "    <tr>\n",
       "      <th>channel_title</th>\n",
       "      <th></th>\n",
       "    </tr>\n",
       "  </thead>\n",
       "  <tbody>\n",
       "    <tr>\n",
       "      <th>YouTube Spotlight</th>\n",
       "      <td>783298628</td>\n",
       "    </tr>\n",
       "    <tr>\n",
       "      <th>Marvel Entertainment</th>\n",
       "      <td>679590872</td>\n",
       "    </tr>\n",
       "    <tr>\n",
       "      <th>LuisFonsiVEVO</th>\n",
       "      <td>534738794</td>\n",
       "    </tr>\n",
       "  </tbody>\n",
       "</table>\n",
       "</div>"
      ],
      "text/plain": [
       "                          views\n",
       "channel_title                  \n",
       "YouTube Spotlight     783298628\n",
       "Marvel Entertainment  679590872\n",
       "LuisFonsiVEVO         534738794"
      ]
     },
     "execution_count": 20,
     "metadata": {},
     "output_type": "execute_result"
    }
   ],
   "source": [
    "channels_max=youtube.groupby(\"channel_title\")[[\"views\"]].sum() #find the sum of views by channel title\n",
    "channels_max.sort_values(\"views\",ascending=False)[0:3] # sort the data and print the 3 biggest values"
   ]
  },
  {
   "cell_type": "markdown",
   "metadata": {},
   "source": [
    "## Question 3"
   ]
  },
  {
   "cell_type": "code",
   "execution_count": 21,
   "metadata": {},
   "outputs": [
    {
     "data": {
      "text/html": [
       "<div>\n",
       "<style scoped>\n",
       "    .dataframe tbody tr th:only-of-type {\n",
       "        vertical-align: middle;\n",
       "    }\n",
       "\n",
       "    .dataframe tbody tr th {\n",
       "        vertical-align: top;\n",
       "    }\n",
       "\n",
       "    .dataframe thead th {\n",
       "        text-align: right;\n",
       "    }\n",
       "</style>\n",
       "<table border=\"1\" class=\"dataframe\">\n",
       "  <thead>\n",
       "    <tr style=\"text-align: right;\">\n",
       "      <th></th>\n",
       "      <th>likes</th>\n",
       "      <th>dislikes</th>\n",
       "      <th>views</th>\n",
       "      <th>comment_count</th>\n",
       "    </tr>\n",
       "  </thead>\n",
       "  <tbody>\n",
       "    <tr>\n",
       "      <th>likes</th>\n",
       "      <td>1.000000</td>\n",
       "      <td>0.801154</td>\n",
       "      <td>0.877789</td>\n",
       "      <td>0.881849</td>\n",
       "    </tr>\n",
       "    <tr>\n",
       "      <th>dislikes</th>\n",
       "      <td>0.801154</td>\n",
       "      <td>1.000000</td>\n",
       "      <td>0.866979</td>\n",
       "      <td>0.843331</td>\n",
       "    </tr>\n",
       "    <tr>\n",
       "      <th>views</th>\n",
       "      <td>0.877789</td>\n",
       "      <td>0.866979</td>\n",
       "      <td>1.000000</td>\n",
       "      <td>0.840532</td>\n",
       "    </tr>\n",
       "    <tr>\n",
       "      <th>comment_count</th>\n",
       "      <td>0.881849</td>\n",
       "      <td>0.843331</td>\n",
       "      <td>0.840532</td>\n",
       "      <td>1.000000</td>\n",
       "    </tr>\n",
       "  </tbody>\n",
       "</table>\n",
       "</div>"
      ],
      "text/plain": [
       "                  likes  dislikes     views  comment_count\n",
       "likes          1.000000  0.801154  0.877789       0.881849\n",
       "dislikes       0.801154  1.000000  0.866979       0.843331\n",
       "views          0.877789  0.866979  1.000000       0.840532\n",
       "comment_count  0.881849  0.843331  0.840532       1.000000"
      ]
     },
     "execution_count": 21,
     "metadata": {},
     "output_type": "execute_result"
    }
   ],
   "source": [
    "youtube[['likes', 'dislikes',\"views\",\"comment_count\"]].corr(method='spearman') #making correlation with spearman"
   ]
  },
  {
   "cell_type": "markdown",
   "metadata": {},
   "source": [
    "## Question 4"
   ]
  },
  {
   "cell_type": "code",
   "execution_count": 22,
   "metadata": {},
   "outputs": [
    {
     "data": {
      "text/plain": [
       "<matplotlib.axes._subplots.AxesSubplot at 0x205ba0e8c70>"
      ]
     },
     "execution_count": 22,
     "metadata": {},
     "output_type": "execute_result"
    },
    {
     "data": {
      "image/png": "[encoded data removed]",
      "text/plain": [
       "<Figure size 432x288 with 2 Axes>"
      ]
     },
     "metadata": {
      "needs_background": "light"
     },
     "output_type": "display_data"
    }
   ],
   "source": [
    "features=['likes', 'dislikes',\"views\",\"comment_count\"] \n",
    "correlation_matrix = youtube[features].corr() #making correlation with features\n",
    "sns.heatmap(data=correlation_matrix,cmap='Reds', annot=True)"
   ]
  },
  {
   "cell_type": "markdown",
   "metadata": {},
   "source": [
    "## Question 5"
   ]
  },
  {
   "cell_type": "code",
   "execution_count": 8,
   "metadata": {},
   "outputs": [
    {
     "data": {
      "text/plain": [
       "<matplotlib.axes._subplots.AxesSubplot at 0x205ba089af0>"
      ]
     },
     "execution_count": 8,
     "metadata": {},
     "output_type": "execute_result"
    },
    {
     "data": {
      "image/png": "[encoded data removed]",
      "text/plain": [
       "<Figure size 432x288 with 1 Axes>"
      ]
     },
     "metadata": {
      "needs_background": "light"
     },
     "output_type": "display_data"
    },
    {
     "data": {
      "image/png": "[encoded data removed]",
      "text/plain": [
       "<Figure size 432x288 with 1 Axes>"
      ]
     },
     "metadata": {
      "needs_background": "light"
     },
     "output_type": "display_data"
    }
   ],
   "source": [
    "sns.scatterplot(data=youtube, x='views', y='likes') #making scatterplot with \"views\" and \"likes\"\n",
    "youtube.plot.scatter(x='comment_count', y='dislikes') #making scatterplot with \"comment_count\" and \"dislikes\""
   ]
  },
  {
   "cell_type": "markdown",
   "metadata": {},
   "source": [
    "## Question 6"
   ]
  },
  {
   "cell_type": "code",
   "execution_count": 56,
   "metadata": {},
   "outputs": [
    {
     "data": {
      "text/html": [
       "<div>\n",
       "<style scoped>\n",
       "    .dataframe tbody tr th:only-of-type {\n",
       "        vertical-align: middle;\n",
       "    }\n",
       "\n",
       "    .dataframe tbody tr th {\n",
       "        vertical-align: top;\n",
       "    }\n",
       "\n",
       "    .dataframe thead th {\n",
       "        text-align: right;\n",
       "    }\n",
       "</style>\n",
       "<table border=\"1\" class=\"dataframe\">\n",
       "  <thead>\n",
       "    <tr style=\"text-align: right;\">\n",
       "      <th>year</th>\n",
       "      <th>2017</th>\n",
       "      <th>2018</th>\n",
       "    </tr>\n",
       "    <tr>\n",
       "      <th>category_id</th>\n",
       "      <th></th>\n",
       "      <th></th>\n",
       "    </tr>\n",
       "  </thead>\n",
       "  <tbody>\n",
       "    <tr>\n",
       "      <th>1</th>\n",
       "      <td>8.654615e+08</td>\n",
       "      <td>144072937.0</td>\n",
       "    </tr>\n",
       "    <tr>\n",
       "      <th>2</th>\n",
       "      <td>7.885352e+07</td>\n",
       "      <td>8047346.0</td>\n",
       "    </tr>\n",
       "    <tr>\n",
       "      <th>10</th>\n",
       "      <td>4.504741e+09</td>\n",
       "      <td>839810930.0</td>\n",
       "    </tr>\n",
       "    <tr>\n",
       "      <th>15</th>\n",
       "      <td>1.442459e+08</td>\n",
       "      <td>32629265.0</td>\n",
       "    </tr>\n",
       "    <tr>\n",
       "      <th>17</th>\n",
       "      <td>3.812432e+08</td>\n",
       "      <td>61660329.0</td>\n",
       "    </tr>\n",
       "    <tr>\n",
       "      <th>19</th>\n",
       "      <td>5.429144e+07</td>\n",
       "      <td>7583452.0</td>\n",
       "    </tr>\n",
       "    <tr>\n",
       "      <th>20</th>\n",
       "      <td>5.035442e+07</td>\n",
       "      <td>84176667.0</td>\n",
       "    </tr>\n",
       "    <tr>\n",
       "      <th>22</th>\n",
       "      <td>7.018258e+08</td>\n",
       "      <td>67849434.0</td>\n",
       "    </tr>\n",
       "    <tr>\n",
       "      <th>23</th>\n",
       "      <td>1.130782e+09</td>\n",
       "      <td>197147385.0</td>\n",
       "    </tr>\n",
       "    <tr>\n",
       "      <th>24</th>\n",
       "      <td>4.049600e+09</td>\n",
       "      <td>645333656.0</td>\n",
       "    </tr>\n",
       "    <tr>\n",
       "      <th>25</th>\n",
       "      <td>2.357296e+08</td>\n",
       "      <td>48419659.0</td>\n",
       "    </tr>\n",
       "    <tr>\n",
       "      <th>26</th>\n",
       "      <td>7.989712e+08</td>\n",
       "      <td>89889352.0</td>\n",
       "    </tr>\n",
       "    <tr>\n",
       "      <th>27</th>\n",
       "      <td>2.025359e+08</td>\n",
       "      <td>48936175.0</td>\n",
       "    </tr>\n",
       "    <tr>\n",
       "      <th>28</th>\n",
       "      <td>5.005949e+08</td>\n",
       "      <td>85462155.0</td>\n",
       "    </tr>\n",
       "    <tr>\n",
       "      <th>29</th>\n",
       "      <td>1.541950e+05</td>\n",
       "      <td>229172.0</td>\n",
       "    </tr>\n",
       "    <tr>\n",
       "      <th>43</th>\n",
       "      <td>1.751446e+06</td>\n",
       "      <td>NaN</td>\n",
       "    </tr>\n",
       "  </tbody>\n",
       "</table>\n",
       "</div>"
      ],
      "text/plain": [
       "year                 2017         2018\n",
       "category_id                           \n",
       "1            8.654615e+08  144072937.0\n",
       "2            7.885352e+07    8047346.0\n",
       "10           4.504741e+09  839810930.0\n",
       "15           1.442459e+08   32629265.0\n",
       "17           3.812432e+08   61660329.0\n",
       "19           5.429144e+07    7583452.0\n",
       "20           5.035442e+07   84176667.0\n",
       "22           7.018258e+08   67849434.0\n",
       "23           1.130782e+09  197147385.0\n",
       "24           4.049600e+09  645333656.0\n",
       "25           2.357296e+08   48419659.0\n",
       "26           7.989712e+08   89889352.0\n",
       "27           2.025359e+08   48936175.0\n",
       "28           5.005949e+08   85462155.0\n",
       "29           1.541950e+05     229172.0\n",
       "43           1.751446e+06          NaN"
      ]
     },
     "execution_count": 56,
     "metadata": {},
     "output_type": "execute_result"
    }
   ],
   "source": [
    "youtube[\"publish_time\"]=pd.to_datetime(youtube.publish_time) \n",
    "youtube[\"year\"]=pd.DatetimeIndex(youtube.publish_time).year #add column year\n",
    "new_data=youtube[youtube[\"year\"].isin([2017,2018])] #slicing the data by year 2017,2018\n",
    "\n",
    "new_data.pivot_table(\"views\", index=\"category_id\",columns=\"year\",  aggfunc = 'sum') #sum video's view  by category in 2017 and 2018"
   ]
  },
  {
   "cell_type": "code",
   "execution_count": null,
   "metadata": {},
   "outputs": [],
   "source": []
  },
  {
   "cell_type": "code",
   "execution_count": null,
   "metadata": {},
   "outputs": [],
   "source": []
  },
  {
   "cell_type": "code",
   "execution_count": null,
   "metadata": {},
   "outputs": [],
   "source": []
  },
  {
   "cell_type": "code",
   "execution_count": null,
   "metadata": {},
   "outputs": [],
   "source": []
  },
  {
   "cell_type": "code",
   "execution_count": null,
   "metadata": {},
   "outputs": [],
   "source": []
  }
 ],
 "metadata": {
  "kernelspec": {
   "display_name": "Python 3",
   "language": "python",
   "name": "python3"
  },
  "language_info": {
   "codemirror_mode": {
    "name": "ipython",
    "version": 3
   },
   "file_extension": ".py",
   "mimetype": "text/x-python",
   "name": "python",
   "nbconvert_exporter": "python",
   "pygments_lexer": "ipython3",
   "version": "3.8.3"
  }
 },
 "nbformat": 4,
 "nbformat_minor": 4
}
