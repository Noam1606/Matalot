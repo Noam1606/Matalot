{
 "cells": [
  {
   "cell_type": "markdown",
   "metadata": {},
   "source": [
    "# Identify:\n",
    "\n",
    "Please fill-in your ID in the following cell, **only id numbers, no names!**\n"
   ]
  },
  {
   "cell_type": "code",
   "execution_count": 1,
   "metadata": {},
   "outputs": [],
   "source": [
    "id1 = \"332391820\"\n",
    "id2 = \"313475808\""
   ]
  },
  {
   "cell_type": "code",
   "execution_count": 35,
   "metadata": {},
   "outputs": [],
   "source": [
    "import pandas as pd\n",
    "import numpy as np\n",
    "import matplotlib.pyplot as plt\n",
    "import seaborn as sns\n",
    "import sklearn as sk\n",
    "from sklearn import tree\n",
    "from sklearn.tree import DecisionTreeRegressor\n",
    "from sklearn.model_selection import train_test_split\n",
    "from sklearn.metrics import mean_squared_error as mse"
   ]
  },
  {
   "cell_type": "code",
   "execution_count": 36,
   "metadata": {},
   "outputs": [],
   "source": [
    "df = pd.DataFrame([id1])"
   ]
  },
  {
   "cell_type": "markdown",
   "metadata": {},
   "source": [
    "Uncomment in case two students are doing the assignment together:"
   ]
  },
  {
   "cell_type": "code",
   "execution_count": 37,
   "metadata": {},
   "outputs": [],
   "source": [
    "#df = pd.DataFrame([id1,id2])"
   ]
  },
  {
   "cell_type": "code",
   "execution_count": 38,
   "metadata": {},
   "outputs": [],
   "source": [
    "df.to_clipboard(index=False,header=False)"
   ]
  },
  {
   "cell_type": "markdown",
   "metadata": {},
   "source": [
    "---"
   ]
  },
  {
   "cell_type": "markdown",
   "metadata": {},
   "source": [
    "----"
   ]
  },
  {
   "cell_type": "code",
   "execution_count": 39,
   "metadata": {},
   "outputs": [
    {
     "data": {
      "text/plain": [
       "18249"
      ]
     },
     "execution_count": 39,
     "metadata": {},
     "output_type": "execute_result"
    }
   ],
   "source": [
    "url = 'https://raw.githubusercontent.com/nlihin/data-analytics/main/datasets/avocado.csv'\n",
    "data = pd.read_csv(url)\n",
    "len(data)"
   ]
  },
  {
   "cell_type": "code",
   "execution_count": 40,
   "metadata": {},
   "outputs": [
    {
     "data": {
      "text/plain": [
       "Unnamed: 0        int64\n",
       "Date             object\n",
       "AveragePrice    float64\n",
       "total_sold      float64\n",
       "small_sold      float64\n",
       "large_sold      float64\n",
       "sma             float64\n",
       "Total Bags      float64\n",
       "Small Bags      float64\n",
       "Large Bags      float64\n",
       "XLarge Bags     float64\n",
       "type             object\n",
       "year              int64\n",
       "region           object\n",
       "dtype: object"
      ]
     },
     "execution_count": 40,
     "metadata": {},
     "output_type": "execute_result"
    }
   ],
   "source": [
    "data.dtypes\n"
   ]
  },
  {
   "cell_type": "markdown",
   "metadata": {},
   "source": [
    "# Q1 "
   ]
  },
  {
   "cell_type": "code",
   "execution_count": 41,
   "metadata": {},
   "outputs": [
    {
     "data": {
      "text/html": [
       "<div>\n",
       "<style scoped>\n",
       "    .dataframe tbody tr th:only-of-type {\n",
       "        vertical-align: middle;\n",
       "    }\n",
       "\n",
       "    .dataframe tbody tr th {\n",
       "        vertical-align: top;\n",
       "    }\n",
       "\n",
       "    .dataframe thead th {\n",
       "        text-align: right;\n",
       "    }\n",
       "</style>\n",
       "<table border=\"1\" class=\"dataframe\">\n",
       "  <thead>\n",
       "    <tr style=\"text-align: right;\">\n",
       "      <th>year</th>\n",
       "      <th>2015</th>\n",
       "      <th>2016</th>\n",
       "      <th>2017</th>\n",
       "      <th>2018</th>\n",
       "    </tr>\n",
       "    <tr>\n",
       "      <th>region</th>\n",
       "      <th></th>\n",
       "      <th></th>\n",
       "      <th></th>\n",
       "      <th></th>\n",
       "    </tr>\n",
       "  </thead>\n",
       "  <tbody>\n",
       "    <tr>\n",
       "      <th>Albany</th>\n",
       "      <td>3.874900e+04</td>\n",
       "      <td>5.061861e+04</td>\n",
       "      <td>4.935455e+04</td>\n",
       "      <td>6.424942e+04</td>\n",
       "    </tr>\n",
       "    <tr>\n",
       "      <th>Atlanta</th>\n",
       "      <td>2.233817e+05</td>\n",
       "      <td>2.723738e+05</td>\n",
       "      <td>2.718408e+05</td>\n",
       "      <td>3.429759e+05</td>\n",
       "    </tr>\n",
       "    <tr>\n",
       "      <th>BaltimoreWashington</th>\n",
       "      <td>3.908229e+05</td>\n",
       "      <td>3.932096e+05</td>\n",
       "      <td>3.869399e+05</td>\n",
       "      <td>5.066210e+05</td>\n",
       "    </tr>\n",
       "    <tr>\n",
       "      <th>Boise</th>\n",
       "      <td>3.638805e+04</td>\n",
       "      <td>4.474528e+04</td>\n",
       "      <td>4.491096e+04</td>\n",
       "      <td>5.061498e+04</td>\n",
       "    </tr>\n",
       "    <tr>\n",
       "      <th>Boston</th>\n",
       "      <td>2.639903e+05</td>\n",
       "      <td>2.939550e+05</td>\n",
       "      <td>2.887799e+05</td>\n",
       "      <td>3.598752e+05</td>\n",
       "    </tr>\n",
       "    <tr>\n",
       "      <th>BuffaloRochester</th>\n",
       "      <td>5.666572e+04</td>\n",
       "      <td>6.927992e+04</td>\n",
       "      <td>7.302175e+04</td>\n",
       "      <td>8.849242e+04</td>\n",
       "    </tr>\n",
       "    <tr>\n",
       "      <th>California</th>\n",
       "      <td>2.898148e+06</td>\n",
       "      <td>3.136427e+06</td>\n",
       "      <td>2.996646e+06</td>\n",
       "      <td>3.489221e+06</td>\n",
       "    </tr>\n",
       "    <tr>\n",
       "      <th>Charlotte</th>\n",
       "      <td>9.122446e+04</td>\n",
       "      <td>1.017954e+05</td>\n",
       "      <td>1.122226e+05</td>\n",
       "      <td>1.494121e+05</td>\n",
       "    </tr>\n",
       "    <tr>\n",
       "      <th>Chicago</th>\n",
       "      <td>3.989877e+05</td>\n",
       "      <td>3.808907e+05</td>\n",
       "      <td>3.866109e+05</td>\n",
       "      <td>4.839263e+05</td>\n",
       "    </tr>\n",
       "    <tr>\n",
       "      <th>CincinnatiDayton</th>\n",
       "      <td>1.130402e+05</td>\n",
       "      <td>1.348160e+05</td>\n",
       "      <td>1.428932e+05</td>\n",
       "      <td>1.499286e+05</td>\n",
       "    </tr>\n",
       "    <tr>\n",
       "      <th>Columbus</th>\n",
       "      <td>7.547867e+04</td>\n",
       "      <td>8.711026e+04</td>\n",
       "      <td>9.660578e+04</td>\n",
       "      <td>1.184958e+05</td>\n",
       "    </tr>\n",
       "    <tr>\n",
       "      <th>DallasFtWorth</th>\n",
       "      <td>5.799164e+05</td>\n",
       "      <td>6.124543e+05</td>\n",
       "      <td>6.249149e+05</td>\n",
       "      <td>7.571561e+05</td>\n",
       "    </tr>\n",
       "    <tr>\n",
       "      <th>Denver</th>\n",
       "      <td>3.768302e+05</td>\n",
       "      <td>4.356516e+05</td>\n",
       "      <td>4.015007e+05</td>\n",
       "      <td>4.935564e+05</td>\n",
       "    </tr>\n",
       "    <tr>\n",
       "      <th>Detroit</th>\n",
       "      <td>1.728806e+05</td>\n",
       "      <td>1.818025e+05</td>\n",
       "      <td>1.935134e+05</td>\n",
       "      <td>2.509566e+05</td>\n",
       "    </tr>\n",
       "    <tr>\n",
       "      <th>GrandRapids</th>\n",
       "      <td>9.366291e+04</td>\n",
       "      <td>8.795069e+04</td>\n",
       "      <td>8.258922e+04</td>\n",
       "      <td>1.070610e+05</td>\n",
       "    </tr>\n",
       "    <tr>\n",
       "      <th>GreatLakes</th>\n",
       "      <td>1.628731e+06</td>\n",
       "      <td>1.709039e+06</td>\n",
       "      <td>1.786357e+06</td>\n",
       "      <td>2.215028e+06</td>\n",
       "    </tr>\n",
       "    <tr>\n",
       "      <th>HarrisburgScranton</th>\n",
       "      <td>1.119029e+05</td>\n",
       "      <td>1.262002e+05</td>\n",
       "      <td>1.240030e+05</td>\n",
       "      <td>1.625755e+05</td>\n",
       "    </tr>\n",
       "    <tr>\n",
       "      <th>HartfordSpringfield</th>\n",
       "      <td>1.457908e+05</td>\n",
       "      <td>1.509418e+05</td>\n",
       "      <td>1.445529e+05</td>\n",
       "      <td>1.869892e+05</td>\n",
       "    </tr>\n",
       "    <tr>\n",
       "      <th>Houston</th>\n",
       "      <td>5.325718e+05</td>\n",
       "      <td>5.644691e+05</td>\n",
       "      <td>6.518216e+05</td>\n",
       "      <td>8.326049e+05</td>\n",
       "    </tr>\n",
       "    <tr>\n",
       "      <th>Indianapolis</th>\n",
       "      <td>7.874098e+04</td>\n",
       "      <td>8.811975e+04</td>\n",
       "      <td>9.435095e+04</td>\n",
       "      <td>1.211948e+05</td>\n",
       "    </tr>\n",
       "    <tr>\n",
       "      <th>Jacksonville</th>\n",
       "      <td>6.900458e+04</td>\n",
       "      <td>9.338304e+04</td>\n",
       "      <td>8.672913e+04</td>\n",
       "      <td>1.128502e+05</td>\n",
       "    </tr>\n",
       "    <tr>\n",
       "      <th>LasVegas</th>\n",
       "      <td>1.494464e+05</td>\n",
       "      <td>1.625674e+05</td>\n",
       "      <td>1.644701e+05</td>\n",
       "      <td>1.872346e+05</td>\n",
       "    </tr>\n",
       "    <tr>\n",
       "      <th>LosAngeles</th>\n",
       "      <td>1.425199e+06</td>\n",
       "      <td>1.568676e+06</td>\n",
       "      <td>1.495105e+06</td>\n",
       "      <td>1.585516e+06</td>\n",
       "    </tr>\n",
       "    <tr>\n",
       "      <th>Louisville</th>\n",
       "      <td>4.124042e+04</td>\n",
       "      <td>4.881085e+04</td>\n",
       "      <td>4.962367e+04</td>\n",
       "      <td>6.131504e+04</td>\n",
       "    </tr>\n",
       "    <tr>\n",
       "      <th>MiamiFtLauderdale</th>\n",
       "      <td>2.419857e+05</td>\n",
       "      <td>3.065871e+05</td>\n",
       "      <td>2.913229e+05</td>\n",
       "      <td>4.058925e+05</td>\n",
       "    </tr>\n",
       "    <tr>\n",
       "      <th>Midsouth</th>\n",
       "      <td>1.348288e+06</td>\n",
       "      <td>1.483274e+06</td>\n",
       "      <td>1.561826e+06</td>\n",
       "      <td>2.013058e+06</td>\n",
       "    </tr>\n",
       "    <tr>\n",
       "      <th>Nashville</th>\n",
       "      <td>8.328766e+04</td>\n",
       "      <td>1.009536e+05</td>\n",
       "      <td>1.220627e+05</td>\n",
       "      <td>1.463481e+05</td>\n",
       "    </tr>\n",
       "    <tr>\n",
       "      <th>NewOrleansMobile</th>\n",
       "      <td>1.217722e+05</td>\n",
       "      <td>1.407728e+05</td>\n",
       "      <td>1.351557e+05</td>\n",
       "      <td>1.693317e+05</td>\n",
       "    </tr>\n",
       "    <tr>\n",
       "      <th>NewYork</th>\n",
       "      <td>6.789196e+05</td>\n",
       "      <td>6.879477e+05</td>\n",
       "      <td>7.061384e+05</td>\n",
       "      <td>9.887190e+05</td>\n",
       "    </tr>\n",
       "    <tr>\n",
       "      <th>Northeast</th>\n",
       "      <td>1.955567e+06</td>\n",
       "      <td>2.105107e+06</td>\n",
       "      <td>2.119314e+06</td>\n",
       "      <td>2.763481e+06</td>\n",
       "    </tr>\n",
       "    <tr>\n",
       "      <th>NorthernNewEngland</th>\n",
       "      <td>1.932176e+05</td>\n",
       "      <td>2.129020e+05</td>\n",
       "      <td>2.137763e+05</td>\n",
       "      <td>2.765070e+05</td>\n",
       "    </tr>\n",
       "    <tr>\n",
       "      <th>Orlando</th>\n",
       "      <td>1.415344e+05</td>\n",
       "      <td>1.847576e+05</td>\n",
       "      <td>1.774661e+05</td>\n",
       "      <td>2.464558e+05</td>\n",
       "    </tr>\n",
       "    <tr>\n",
       "      <th>Philadelphia</th>\n",
       "      <td>2.008867e+05</td>\n",
       "      <td>2.125779e+05</td>\n",
       "      <td>2.101061e+05</td>\n",
       "      <td>2.736349e+05</td>\n",
       "    </tr>\n",
       "    <tr>\n",
       "      <th>PhoenixTucson</th>\n",
       "      <td>5.497720e+05</td>\n",
       "      <td>5.700355e+05</td>\n",
       "      <td>5.770805e+05</td>\n",
       "      <td>7.505336e+05</td>\n",
       "    </tr>\n",
       "    <tr>\n",
       "      <th>Pittsburgh</th>\n",
       "      <td>4.365384e+04</td>\n",
       "      <td>5.304036e+04</td>\n",
       "      <td>6.460970e+04</td>\n",
       "      <td>7.922999e+04</td>\n",
       "    </tr>\n",
       "    <tr>\n",
       "      <th>Plains</th>\n",
       "      <td>8.426807e+05</td>\n",
       "      <td>9.157849e+05</td>\n",
       "      <td>9.460380e+05</td>\n",
       "      <td>1.167836e+06</td>\n",
       "    </tr>\n",
       "    <tr>\n",
       "      <th>Portland</th>\n",
       "      <td>2.686871e+05</td>\n",
       "      <td>3.587645e+05</td>\n",
       "      <td>3.481081e+05</td>\n",
       "      <td>3.499079e+05</td>\n",
       "    </tr>\n",
       "    <tr>\n",
       "      <th>RaleighGreensboro</th>\n",
       "      <td>1.232436e+05</td>\n",
       "      <td>1.400755e+05</td>\n",
       "      <td>1.512137e+05</td>\n",
       "      <td>1.995373e+05</td>\n",
       "    </tr>\n",
       "    <tr>\n",
       "      <th>RichmondNorfolk</th>\n",
       "      <td>1.120296e+05</td>\n",
       "      <td>1.244041e+05</td>\n",
       "      <td>1.287446e+05</td>\n",
       "      <td>1.664510e+05</td>\n",
       "    </tr>\n",
       "    <tr>\n",
       "      <th>Roanoke</th>\n",
       "      <td>6.518089e+04</td>\n",
       "      <td>7.391170e+04</td>\n",
       "      <td>7.627936e+04</td>\n",
       "      <td>1.037821e+05</td>\n",
       "    </tr>\n",
       "    <tr>\n",
       "      <th>Sacramento</th>\n",
       "      <td>2.113513e+05</td>\n",
       "      <td>2.223368e+05</td>\n",
       "      <td>2.187965e+05</td>\n",
       "      <td>2.861562e+05</td>\n",
       "    </tr>\n",
       "    <tr>\n",
       "      <th>SanDiego</th>\n",
       "      <td>2.556320e+05</td>\n",
       "      <td>2.820966e+05</td>\n",
       "      <td>2.565499e+05</td>\n",
       "      <td>2.780771e+05</td>\n",
       "    </tr>\n",
       "    <tr>\n",
       "      <th>SanFrancisco</th>\n",
       "      <td>3.792866e+05</td>\n",
       "      <td>3.993233e+05</td>\n",
       "      <td>3.950142e+05</td>\n",
       "      <td>5.409691e+05</td>\n",
       "    </tr>\n",
       "    <tr>\n",
       "      <th>Seattle</th>\n",
       "      <td>2.793952e+05</td>\n",
       "      <td>3.575809e+05</td>\n",
       "      <td>3.304487e+05</td>\n",
       "      <td>3.308789e+05</td>\n",
       "    </tr>\n",
       "    <tr>\n",
       "      <th>SouthCarolina</th>\n",
       "      <td>1.562103e+05</td>\n",
       "      <td>1.798352e+05</td>\n",
       "      <td>1.883865e+05</td>\n",
       "      <td>2.431701e+05</td>\n",
       "    </tr>\n",
       "    <tr>\n",
       "      <th>SouthCentral</th>\n",
       "      <td>2.792833e+06</td>\n",
       "      <td>2.924026e+06</td>\n",
       "      <td>3.070025e+06</td>\n",
       "      <td>3.804321e+06</td>\n",
       "    </tr>\n",
       "    <tr>\n",
       "      <th>Southeast</th>\n",
       "      <td>1.539377e+06</td>\n",
       "      <td>1.905014e+06</td>\n",
       "      <td>1.856012e+06</td>\n",
       "      <td>2.511853e+06</td>\n",
       "    </tr>\n",
       "    <tr>\n",
       "      <th>Spokane</th>\n",
       "      <td>4.020853e+04</td>\n",
       "      <td>4.813622e+04</td>\n",
       "      <td>4.859932e+04</td>\n",
       "      <td>5.107889e+04</td>\n",
       "    </tr>\n",
       "    <tr>\n",
       "      <th>StLouis</th>\n",
       "      <td>9.521707e+04</td>\n",
       "      <td>1.023507e+05</td>\n",
       "      <td>8.479361e+04</td>\n",
       "      <td>1.057358e+05</td>\n",
       "    </tr>\n",
       "    <tr>\n",
       "      <th>Syracuse</th>\n",
       "      <td>2.629167e+04</td>\n",
       "      <td>3.297470e+04</td>\n",
       "      <td>3.520734e+04</td>\n",
       "      <td>4.362449e+04</td>\n",
       "    </tr>\n",
       "    <tr>\n",
       "      <th>Tampa</th>\n",
       "      <td>1.647269e+05</td>\n",
       "      <td>2.084687e+05</td>\n",
       "      <td>1.938692e+05</td>\n",
       "      <td>2.767523e+05</td>\n",
       "    </tr>\n",
       "    <tr>\n",
       "      <th>TotalUS</th>\n",
       "      <td>1.593515e+07</td>\n",
       "      <td>1.749191e+07</td>\n",
       "      <td>1.759145e+07</td>\n",
       "      <td>2.181801e+07</td>\n",
       "    </tr>\n",
       "    <tr>\n",
       "      <th>West</th>\n",
       "      <td>2.929522e+06</td>\n",
       "      <td>3.313244e+06</td>\n",
       "      <td>3.255230e+06</td>\n",
       "      <td>3.853212e+06</td>\n",
       "    </tr>\n",
       "    <tr>\n",
       "      <th>WestTexNewMexico</th>\n",
       "      <td>4.031456e+05</td>\n",
       "      <td>4.212253e+05</td>\n",
       "      <td>4.556691e+05</td>\n",
       "      <td>4.917009e+05</td>\n",
       "    </tr>\n",
       "  </tbody>\n",
       "</table>\n",
       "</div>"
      ],
      "text/plain": [
       "year                         2015          2016          2017          2018\n",
       "region                                                                     \n",
       "Albany               3.874900e+04  5.061861e+04  4.935455e+04  6.424942e+04\n",
       "Atlanta              2.233817e+05  2.723738e+05  2.718408e+05  3.429759e+05\n",
       "BaltimoreWashington  3.908229e+05  3.932096e+05  3.869399e+05  5.066210e+05\n",
       "Boise                3.638805e+04  4.474528e+04  4.491096e+04  5.061498e+04\n",
       "Boston               2.639903e+05  2.939550e+05  2.887799e+05  3.598752e+05\n",
       "BuffaloRochester     5.666572e+04  6.927992e+04  7.302175e+04  8.849242e+04\n",
       "California           2.898148e+06  3.136427e+06  2.996646e+06  3.489221e+06\n",
       "Charlotte            9.122446e+04  1.017954e+05  1.122226e+05  1.494121e+05\n",
       "Chicago              3.989877e+05  3.808907e+05  3.866109e+05  4.839263e+05\n",
       "CincinnatiDayton     1.130402e+05  1.348160e+05  1.428932e+05  1.499286e+05\n",
       "Columbus             7.547867e+04  8.711026e+04  9.660578e+04  1.184958e+05\n",
       "DallasFtWorth        5.799164e+05  6.124543e+05  6.249149e+05  7.571561e+05\n",
       "Denver               3.768302e+05  4.356516e+05  4.015007e+05  4.935564e+05\n",
       "Detroit              1.728806e+05  1.818025e+05  1.935134e+05  2.509566e+05\n",
       "GrandRapids          9.366291e+04  8.795069e+04  8.258922e+04  1.070610e+05\n",
       "GreatLakes           1.628731e+06  1.709039e+06  1.786357e+06  2.215028e+06\n",
       "HarrisburgScranton   1.119029e+05  1.262002e+05  1.240030e+05  1.625755e+05\n",
       "HartfordSpringfield  1.457908e+05  1.509418e+05  1.445529e+05  1.869892e+05\n",
       "Houston              5.325718e+05  5.644691e+05  6.518216e+05  8.326049e+05\n",
       "Indianapolis         7.874098e+04  8.811975e+04  9.435095e+04  1.211948e+05\n",
       "Jacksonville         6.900458e+04  9.338304e+04  8.672913e+04  1.128502e+05\n",
       "LasVegas             1.494464e+05  1.625674e+05  1.644701e+05  1.872346e+05\n",
       "LosAngeles           1.425199e+06  1.568676e+06  1.495105e+06  1.585516e+06\n",
       "Louisville           4.124042e+04  4.881085e+04  4.962367e+04  6.131504e+04\n",
       "MiamiFtLauderdale    2.419857e+05  3.065871e+05  2.913229e+05  4.058925e+05\n",
       "Midsouth             1.348288e+06  1.483274e+06  1.561826e+06  2.013058e+06\n",
       "Nashville            8.328766e+04  1.009536e+05  1.220627e+05  1.463481e+05\n",
       "NewOrleansMobile     1.217722e+05  1.407728e+05  1.351557e+05  1.693317e+05\n",
       "NewYork              6.789196e+05  6.879477e+05  7.061384e+05  9.887190e+05\n",
       "Northeast            1.955567e+06  2.105107e+06  2.119314e+06  2.763481e+06\n",
       "NorthernNewEngland   1.932176e+05  2.129020e+05  2.137763e+05  2.765070e+05\n",
       "Orlando              1.415344e+05  1.847576e+05  1.774661e+05  2.464558e+05\n",
       "Philadelphia         2.008867e+05  2.125779e+05  2.101061e+05  2.736349e+05\n",
       "PhoenixTucson        5.497720e+05  5.700355e+05  5.770805e+05  7.505336e+05\n",
       "Pittsburgh           4.365384e+04  5.304036e+04  6.460970e+04  7.922999e+04\n",
       "Plains               8.426807e+05  9.157849e+05  9.460380e+05  1.167836e+06\n",
       "Portland             2.686871e+05  3.587645e+05  3.481081e+05  3.499079e+05\n",
       "RaleighGreensboro    1.232436e+05  1.400755e+05  1.512137e+05  1.995373e+05\n",
       "RichmondNorfolk      1.120296e+05  1.244041e+05  1.287446e+05  1.664510e+05\n",
       "Roanoke              6.518089e+04  7.391170e+04  7.627936e+04  1.037821e+05\n",
       "Sacramento           2.113513e+05  2.223368e+05  2.187965e+05  2.861562e+05\n",
       "SanDiego             2.556320e+05  2.820966e+05  2.565499e+05  2.780771e+05\n",
       "SanFrancisco         3.792866e+05  3.993233e+05  3.950142e+05  5.409691e+05\n",
       "Seattle              2.793952e+05  3.575809e+05  3.304487e+05  3.308789e+05\n",
       "SouthCarolina        1.562103e+05  1.798352e+05  1.883865e+05  2.431701e+05\n",
       "SouthCentral         2.792833e+06  2.924026e+06  3.070025e+06  3.804321e+06\n",
       "Southeast            1.539377e+06  1.905014e+06  1.856012e+06  2.511853e+06\n",
       "Spokane              4.020853e+04  4.813622e+04  4.859932e+04  5.107889e+04\n",
       "StLouis              9.521707e+04  1.023507e+05  8.479361e+04  1.057358e+05\n",
       "Syracuse             2.629167e+04  3.297470e+04  3.520734e+04  4.362449e+04\n",
       "Tampa                1.647269e+05  2.084687e+05  1.938692e+05  2.767523e+05\n",
       "TotalUS              1.593515e+07  1.749191e+07  1.759145e+07  2.181801e+07\n",
       "West                 2.929522e+06  3.313244e+06  3.255230e+06  3.853212e+06\n",
       "WestTexNewMexico     4.031456e+05  4.212253e+05  4.556691e+05  4.917009e+05"
      ]
     },
     "execution_count": 41,
     "metadata": {},
     "output_type": "execute_result"
    }
   ],
   "source": [
    "data[\"Date\"]=pd.to_datetime(data.Date) \n",
    "data[\"month\"]=pd.DatetimeIndex(data.Date).month #add column month\n",
    "data[\"year\"]=pd.DatetimeIndex(data.Date).year #add column year\n",
    "\n",
    "data.pivot_table(\"total_sold\",index=\"region\",columns=\"year\") # make sum of avocado that have been sold in each region for each year"
   ]
  },
  {
   "cell_type": "markdown",
   "metadata": {},
   "source": [
    "# Q2"
   ]
  },
  {
   "cell_type": "code",
   "execution_count": 42,
   "metadata": {},
   "outputs": [
    {
     "name": "stdout",
     "output_type": "stream",
     "text": [
      "In the new_data there is:  104  lines.\n"
     ]
    },
    {
     "data": {
      "text/html": [
       "<div>\n",
       "<style scoped>\n",
       "    .dataframe tbody tr th:only-of-type {\n",
       "        vertical-align: middle;\n",
       "    }\n",
       "\n",
       "    .dataframe tbody tr th {\n",
       "        vertical-align: top;\n",
       "    }\n",
       "\n",
       "    .dataframe thead th {\n",
       "        text-align: right;\n",
       "    }\n",
       "</style>\n",
       "<table border=\"1\" class=\"dataframe\">\n",
       "  <thead>\n",
       "    <tr style=\"text-align: right;\">\n",
       "      <th></th>\n",
       "      <th>Unnamed: 0</th>\n",
       "      <th>Date</th>\n",
       "      <th>AveragePrice</th>\n",
       "      <th>total_sold</th>\n",
       "      <th>small_sold</th>\n",
       "      <th>large_sold</th>\n",
       "      <th>sma</th>\n",
       "      <th>Total Bags</th>\n",
       "      <th>Small Bags</th>\n",
       "      <th>Large Bags</th>\n",
       "      <th>XLarge Bags</th>\n",
       "      <th>type</th>\n",
       "      <th>year</th>\n",
       "      <th>region</th>\n",
       "      <th>month</th>\n",
       "    </tr>\n",
       "  </thead>\n",
       "  <tbody>\n",
       "    <tr>\n",
       "      <th>4264</th>\n",
       "      <td>0</td>\n",
       "      <td>2016-12-25</td>\n",
       "      <td>1.36</td>\n",
       "      <td>1087984.90</td>\n",
       "      <td>11329.85</td>\n",
       "      <td>713042.43</td>\n",
       "      <td>84414.47</td>\n",
       "      <td>279198.15</td>\n",
       "      <td>241335.64</td>\n",
       "      <td>36654.59</td>\n",
       "      <td>1207.92</td>\n",
       "      <td>conventional</td>\n",
       "      <td>2016</td>\n",
       "      <td>NewYork</td>\n",
       "      <td>12</td>\n",
       "    </tr>\n",
       "    <tr>\n",
       "      <th>4265</th>\n",
       "      <td>1</td>\n",
       "      <td>2016-12-18</td>\n",
       "      <td>1.26</td>\n",
       "      <td>1241381.71</td>\n",
       "      <td>14178.17</td>\n",
       "      <td>954802.60</td>\n",
       "      <td>15428.57</td>\n",
       "      <td>256972.37</td>\n",
       "      <td>215851.19</td>\n",
       "      <td>39174.98</td>\n",
       "      <td>1946.20</td>\n",
       "      <td>conventional</td>\n",
       "      <td>2016</td>\n",
       "      <td>NewYork</td>\n",
       "      <td>12</td>\n",
       "    </tr>\n",
       "    <tr>\n",
       "      <th>4266</th>\n",
       "      <td>2</td>\n",
       "      <td>2016-11-12</td>\n",
       "      <td>1.32</td>\n",
       "      <td>1163696.14</td>\n",
       "      <td>10994.77</td>\n",
       "      <td>793989.54</td>\n",
       "      <td>5247.11</td>\n",
       "      <td>353464.72</td>\n",
       "      <td>247566.16</td>\n",
       "      <td>104392.33</td>\n",
       "      <td>1506.23</td>\n",
       "      <td>conventional</td>\n",
       "      <td>2016</td>\n",
       "      <td>NewYork</td>\n",
       "      <td>11</td>\n",
       "    </tr>\n",
       "    <tr>\n",
       "      <th>4267</th>\n",
       "      <td>3</td>\n",
       "      <td>2016-04-12</td>\n",
       "      <td>1.52</td>\n",
       "      <td>960475.67</td>\n",
       "      <td>13893.11</td>\n",
       "      <td>696042.02</td>\n",
       "      <td>2350.43</td>\n",
       "      <td>248190.11</td>\n",
       "      <td>214068.14</td>\n",
       "      <td>33668.33</td>\n",
       "      <td>453.64</td>\n",
       "      <td>conventional</td>\n",
       "      <td>2016</td>\n",
       "      <td>NewYork</td>\n",
       "      <td>4</td>\n",
       "    </tr>\n",
       "    <tr>\n",
       "      <th>4268</th>\n",
       "      <td>4</td>\n",
       "      <td>2016-11-27</td>\n",
       "      <td>1.56</td>\n",
       "      <td>970753.07</td>\n",
       "      <td>15264.26</td>\n",
       "      <td>696848.85</td>\n",
       "      <td>2022.90</td>\n",
       "      <td>256617.06</td>\n",
       "      <td>223707.17</td>\n",
       "      <td>32610.95</td>\n",
       "      <td>298.94</td>\n",
       "      <td>conventional</td>\n",
       "      <td>2016</td>\n",
       "      <td>NewYork</td>\n",
       "      <td>11</td>\n",
       "    </tr>\n",
       "  </tbody>\n",
       "</table>\n",
       "</div>"
      ],
      "text/plain": [
       "      Unnamed: 0       Date  AveragePrice  total_sold  small_sold  large_sold  \\\n",
       "4264           0 2016-12-25          1.36  1087984.90    11329.85   713042.43   \n",
       "4265           1 2016-12-18          1.26  1241381.71    14178.17   954802.60   \n",
       "4266           2 2016-11-12          1.32  1163696.14    10994.77   793989.54   \n",
       "4267           3 2016-04-12          1.52   960475.67    13893.11   696042.02   \n",
       "4268           4 2016-11-27          1.56   970753.07    15264.26   696848.85   \n",
       "\n",
       "           sma  Total Bags  Small Bags  Large Bags  XLarge Bags          type  \\\n",
       "4264  84414.47   279198.15   241335.64    36654.59      1207.92  conventional   \n",
       "4265  15428.57   256972.37   215851.19    39174.98      1946.20  conventional   \n",
       "4266   5247.11   353464.72   247566.16   104392.33      1506.23  conventional   \n",
       "4267   2350.43   248190.11   214068.14    33668.33       453.64  conventional   \n",
       "4268   2022.90   256617.06   223707.17    32610.95       298.94  conventional   \n",
       "\n",
       "      year   region  month  \n",
       "4264  2016  NewYork     12  \n",
       "4265  2016  NewYork     12  \n",
       "4266  2016  NewYork     11  \n",
       "4267  2016  NewYork      4  \n",
       "4268  2016  NewYork     11  "
      ]
     },
     "execution_count": 42,
     "metadata": {},
     "output_type": "execute_result"
    }
   ],
   "source": [
    "new_data=data[(data[\"region\"].str.contains(\"NewYork\")) & (data[\"year\"]==2016)] #create new dataframde with region NewYork and year 2016 (New york like \"n\" of \"Noam\")\n",
    "print(\"In the new_data there is: \",len(new_data), \" lines.\") #print len of the new dataframe\n",
    "new_data.head()"
   ]
  },
  {
   "cell_type": "markdown",
   "metadata": {},
   "source": [
    "# Q3"
   ]
  },
  {
   "cell_type": "code",
   "execution_count": 43,
   "metadata": {},
   "outputs": [
    {
     "name": "stdout",
     "output_type": "stream",
     "text": [
      "In the new_data the average of avocado sold is:  687947.7224999997\n"
     ]
    }
   ],
   "source": [
    "print(\"In the new_data the average of avocado sold is: \", new_data[\"total_sold\"].mean())\n",
    "# make mean of the column \"total_sold\" on the new dataframe"
   ]
  },
  {
   "cell_type": "markdown",
   "metadata": {},
   "source": [
    "# Q4"
   ]
  },
  {
   "cell_type": "code",
   "execution_count": 44,
   "metadata": {},
   "outputs": [
    {
     "name": "stdout",
     "output_type": "stream",
     "text": [
      "The total bags tha have been sold in september is:  1187689.5\n"
     ]
    }
   ],
   "source": [
    "month9=new_data[new_data[\"month\"]==9]\n",
    "print(\"The total bags tha have been sold in september is: \",month9[\"Total Bags\"].sum()) #sum of \"total bags\" in september"
   ]
  },
  {
   "cell_type": "markdown",
   "metadata": {},
   "source": [
    "# Q5"
   ]
  },
  {
   "cell_type": "code",
   "execution_count": 45,
   "metadata": {},
   "outputs": [
    {
     "data": {
      "text/plain": [
       "<seaborn.axisgrid.FacetGrid at 0x1390fc13730>"
      ]
     },
     "execution_count": 45,
     "metadata": {},
     "output_type": "execute_result"
    },
    {
     "data": {
      "image/png": "[encoded data removed]",
      "text/plain": [
       "<Figure size 360x360 with 1 Axes>"
      ]
     },
     "metadata": {
      "needs_background": "light"
     },
     "output_type": "display_data"
    }
   ],
   "source": [
    "sns.catplot(x=\"type\", y=\"total_sold\", hue=\"type\", kind=\"bar\",data=data) #make a visualization of \"total sold\" with the different type of avocados\n",
    "\n"
   ]
  },
  {
   "cell_type": "markdown",
   "metadata": {},
   "source": [
    "# Q6"
   ]
  },
  {
   "cell_type": "code",
   "execution_count": 46,
   "metadata": {},
   "outputs": [
    {
     "data": {
      "text/plain": [
       "<matplotlib.axes._subplots.AxesSubplot at 0x13914fb9c70>"
      ]
     },
     "execution_count": 46,
     "metadata": {},
     "output_type": "execute_result"
    },
    {
     "data": {
      "image/png": "[encoded data removed]",
      "text/plain": [
       "<Figure size 720x720 with 2 Axes>"
      ]
     },
     "metadata": {
      "needs_background": "light"
     },
     "output_type": "display_data"
    }
   ],
   "source": [
    "data[\"type_cat\"]=data[\"type\"].astype(\"category\").cat.codes #make \"type\" to category\n",
    "features = ['total_sold', 'Total Bags', 'AveragePrice', 'type_cat']\n",
    "\n",
    "\n",
    "correlation=data[features].corr().round(2) #correlation with the features\n",
    "plt.figure(1, figsize=(10,10))\n",
    "sns.heatmap(data=correlation, cmap=\"Blues\", annot=True)\n",
    "\n",
    "# continue here"
   ]
  },
  {
   "cell_type": "markdown",
   "metadata": {},
   "source": [
    "# Q7"
   ]
  },
  {
   "cell_type": "code",
   "execution_count": 47,
   "metadata": {},
   "outputs": [
    {
     "data": {
      "text/plain": [
       "<matplotlib.axes._subplots.AxesSubplot at 0x139174e3fa0>"
      ]
     },
     "execution_count": 47,
     "metadata": {},
     "output_type": "execute_result"
    },
    {
     "data": {
      "image/png": "[encoded data removed]",
      "text/plain": [
       "<Figure size 1008x576 with 1 Axes>"
      ]
     },
     "metadata": {
      "needs_background": "light"
     },
     "output_type": "display_data"
    }
   ],
   "source": [
    "plt.figure(1,figsize=(14,8))\n",
    "sns.scatterplot(data=data, x='Total Bags',y='total_sold',hue=\"year\",palette=\"colorblind\")\n",
    "#make a scatterplot with the highest correlation that we found on the last question in each year\n"
   ]
  },
  {
   "cell_type": "markdown",
   "metadata": {},
   "source": [
    "---\n",
    "# GOOD LUCK !!!!\n",
    "---"
   ]
  },
  {
   "cell_type": "markdown",
   "metadata": {},
   "source": [
    "## Q8"
   ]
  },
  {
   "cell_type": "code",
   "execution_count": 48,
   "metadata": {},
   "outputs": [
    {
     "data": {
      "text/plain": [
       "Unnamed: 0      0\n",
       "Date            0\n",
       "AveragePrice    0\n",
       "total_sold      0\n",
       "small_sold      0\n",
       "large_sold      0\n",
       "sma             0\n",
       "Total Bags      0\n",
       "Small Bags      0\n",
       "Large Bags      0\n",
       "XLarge Bags     0\n",
       "type            0\n",
       "year            0\n",
       "region          0\n",
       "month           0\n",
       "type_cat        0\n",
       "dtype: int64"
      ]
     },
     "execution_count": 48,
     "metadata": {},
     "output_type": "execute_result"
    }
   ],
   "source": [
    "data.isnull().sum()"
   ]
  },
  {
   "cell_type": "code",
   "execution_count": 49,
   "metadata": {},
   "outputs": [
    {
     "data": {
      "text/plain": [
       "array([[<matplotlib.axes._subplots.AxesSubplot object at 0x000001391787A310>]],\n",
       "      dtype=object)"
      ]
     },
     "execution_count": 49,
     "metadata": {},
     "output_type": "execute_result"
    },
    {
     "data": {
      "image/png": "[encoded data removed]",
      "text/plain": [
       "<Figure size 432x288 with 1 Axes>"
      ]
     },
     "metadata": {
      "needs_background": "light"
     },
     "output_type": "display_data"
    }
   ],
   "source": [
    "data.hist(\"total_sold\",log=True)"
   ]
  },
  {
   "cell_type": "code",
   "execution_count": 50,
   "metadata": {},
   "outputs": [
    {
     "data": {
      "text/html": [
       "<div>\n",
       "<style scoped>\n",
       "    .dataframe tbody tr th:only-of-type {\n",
       "        vertical-align: middle;\n",
       "    }\n",
       "\n",
       "    .dataframe tbody tr th {\n",
       "        vertical-align: top;\n",
       "    }\n",
       "\n",
       "    .dataframe thead th {\n",
       "        text-align: right;\n",
       "    }\n",
       "</style>\n",
       "<table border=\"1\" class=\"dataframe\">\n",
       "  <thead>\n",
       "    <tr style=\"text-align: right;\">\n",
       "      <th>type</th>\n",
       "      <th>conventional</th>\n",
       "      <th>organic</th>\n",
       "    </tr>\n",
       "    <tr>\n",
       "      <th>year</th>\n",
       "      <th></th>\n",
       "      <th></th>\n",
       "    </tr>\n",
       "  </thead>\n",
       "  <tbody>\n",
       "    <tr>\n",
       "      <th>2015</th>\n",
       "      <td>1.077963</td>\n",
       "      <td>1.673324</td>\n",
       "    </tr>\n",
       "    <tr>\n",
       "      <th>2016</th>\n",
       "      <td>1.105595</td>\n",
       "      <td>1.571684</td>\n",
       "    </tr>\n",
       "    <tr>\n",
       "      <th>2017</th>\n",
       "      <td>1.294888</td>\n",
       "      <td>1.735521</td>\n",
       "    </tr>\n",
       "    <tr>\n",
       "      <th>2018</th>\n",
       "      <td>1.127886</td>\n",
       "      <td>1.567176</td>\n",
       "    </tr>\n",
       "  </tbody>\n",
       "</table>\n",
       "</div>"
      ],
      "text/plain": [
       "type  conventional   organic\n",
       "year                        \n",
       "2015      1.077963  1.673324\n",
       "2016      1.105595  1.571684\n",
       "2017      1.294888  1.735521\n",
       "2018      1.127886  1.567176"
      ]
     },
     "execution_count": 50,
     "metadata": {},
     "output_type": "execute_result"
    }
   ],
   "source": [
    "data.pivot_table(\"AveragePrice\",index=\"year\",columns=\"type\")"
   ]
  },
  {
   "cell_type": "code",
   "execution_count": 56,
   "metadata": {},
   "outputs": [
    {
     "data": {
      "text/plain": [
       "571531.7486135387"
      ]
     },
     "execution_count": 56,
     "metadata": {},
     "output_type": "execute_result"
    }
   ],
   "source": [
    "data[\"region_cat\"]=data[\"region\"].astype(\"category\").cat.codes\n",
    "data[\"type_cat\"]=data[\"type\"].astype(\"category\").cat.codes\n",
    "features=[\"region_cat\",\"type_cat\",\"AveragePrice\",\"Total Bags\"]\n",
    "x=data[features]\n",
    "y=data[\"total_sold\"]\n",
    "\n",
    "X_train, X_test, y_train, y_test = sk.model_selection.train_test_split(x, y, test_size=0.3, random_state=1) \n",
    "model=model = DecisionTreeRegressor(random_state=1)\n",
    "\n",
    "model.fit(X_train,y_train)\n",
    "prediction=model.predict(X_test)\n",
    "df=pd.DataFrame(columns=[\"total_sold\",\"prediction\"])\n",
    "df[\"prediction\"]=list(prediction)\n",
    "df[\"total_sold\"]=y_test\n",
    "mse(df[\"prediction\"],y_test,squared=False)\n",
    "y_test"
   ]
  },
  {
   "cell_type": "code",
   "execution_count": null,
   "metadata": {},
   "outputs": [],
   "source": []
  },
  {
   "cell_type": "code",
   "execution_count": null,
   "metadata": {},
   "outputs": [],
   "source": []
  }
 ],
 "metadata": {
  "kernelspec": {
   "display_name": "Python 3",
   "language": "python",
   "name": "python3"
  },
  "language_info": {
   "codemirror_mode": {
    "name": "ipython",
    "version": 3
   },
   "file_extension": ".py",
   "mimetype": "text/x-python",
   "name": "python",
   "nbconvert_exporter": "python",
   "pygments_lexer": "ipython3",
   "version": "3.8.3"
  }
 },
 "nbformat": 4,
 "nbformat_minor": 4
}
